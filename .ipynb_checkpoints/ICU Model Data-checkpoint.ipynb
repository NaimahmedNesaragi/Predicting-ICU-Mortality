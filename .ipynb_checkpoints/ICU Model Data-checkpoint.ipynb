{
 "cells": [
  {
   "cell_type": "markdown",
   "metadata": {},
   "source": [
    "# Modeling ICU Data"
   ]
  },
  {
   "cell_type": "markdown",
   "metadata": {},
   "source": [
    "<br>\n",
    "To achieve the best machine learning model, I tried many different strategies and chased into countless rabbit holes, but (unsurprisingly) XGBoost tuned with GridSearchCV proved to be the best model for this data. The notebook is divided into the overall EDA portion, along with the final score, then the second half of the notebook details the numerous models and techniques used before deciding to stick with LogisticRegression.  <br> <br>\n",
    "\n",
    "***\n",
    "\n",
    "<br>\n",
    "\n",
    "### Table of Contents\n",
    "1. [Preliminary EDA](#Preliminary-EDA)\n",
    "2. [Scoring](#Scoring)\n",
    "3. [Primary Models](#Primary-Models)\n",
    "4. [Other Models](#Other-Models)\n"
   ]
  },
  {
   "cell_type": "markdown",
   "metadata": {},
   "source": [
    "**Attempted Strategies for Machine Learning**\n",
    "1. [Feature Selection](#Feature-Selection) (OLS, Lasso, Recursive Feature Selection) \n",
    "2. Dropping data, imputing data (Mean, [MICE](#MICE))\n",
    "3. Feature Engineering ([Standard Deviation](#Standard-Deviation), [Anomaly Detection](#Anomaly-Detection) with FBProphet module)\n",
    "4. [Grid Search](#Grid-Search) and Threshold Tuning (Logistic, Random Forest, [XGBoost](#XGBoost))\n",
    "5. [Oversampling](#Oversampling) (Random, Smote, Adasyn)\n",
    "6. [Cross Validation](#Cross-Validation)\n",
    "7. [Ensemble Methods](#Ensemble-Methods), Voting Classifier\n",
    "8. Compare to dummy for sanity check"
   ]
  },
  {
   "cell_type": "code",
   "execution_count": 8,
   "metadata": {},
   "outputs": [],
   "source": [
    "import pandas as pd\n",
    "import numpy as np\n",
    "import matplotlib.pyplot as plt\n",
    "import seaborn as sns\n",
    "pd.set_option('display.max_columns', 500)\n",
    "import pickle\n",
    "\n",
    "from sklearn import datasets\n",
    "from sklearn.neighbors import KNeighborsClassifier\n",
    "from sklearn.linear_model import LogisticRegression\n",
    "from sklearn.model_selection import train_test_split\n",
    "from sklearn.metrics import precision_score, recall_score, precision_recall_curve,f1_score, fbeta_score\n",
    "\n",
    "import patsy\n",
    "import pickle\n",
    "import statsmodels.api as sm\n",
    "import statsmodels.formula.api as smf\n",
    "from sklearn.preprocessing import StandardScaler\n",
    "from sklearn.linear_model import LinearRegression, Lasso, LassoCV\n",
    "from sklearn.metrics import confusion_matrix\n",
    "\n",
    "from sklearn.model_selection import train_test_split, cross_val_score\n",
    "from sklearn.metrics import accuracy_score, confusion_matrix\n",
    "from sklearn.naive_bayes import BernoulliNB\n",
    "from sklearn.svm import LinearSVC, SVC\n",
    "from xgboost import XGBClassifier\n",
    "from collections import Counter\n",
    "from sklearn.tree import DecisionTreeClassifier\n",
    "from sklearn.ensemble import RandomForestClassifier"
   ]
  },
  {
   "cell_type": "code",
   "execution_count": 2,
   "metadata": {},
   "outputs": [],
   "source": [
    "pickle_in = open(\"all_feature_counts.pickle\",\"rb\")\n",
    "counts = pickle.load(pickle_in)\n",
    "pickle_in = open(\"all_feature_means.pickle\",\"rb\")\n",
    "vital_means = pickle.load(pickle_in)\n",
    "pickle_in = open(\"all_feature_std.pickle\",\"rb\")\n",
    "vital_std = pickle.load(pickle_in)"
   ]
  },
  {
   "cell_type": "markdown",
   "metadata": {},
   "source": [
    "## Preliminary EDA "
   ]
  },
  {
   "cell_type": "code",
   "execution_count": 3,
   "metadata": {},
   "outputs": [],
   "source": [
    "#Some data cleaning (eliminate some sparse features, drop nulls)\n",
    "important_vitals = vital_means.drop(columns = ['ALP', 'ALT', 'AST','Albumin','Bilirubin','Height',\n",
    "                                               'Gender','Cholesterol','RespRate', 'TroponinI', 'TroponinT','SaO2'])\n",
    "important_vitals['RecordID'] = important_vitals['RecordID'].astype(int)\n",
    "for_impute = important_vitals\n",
    "important_vitals = important_vitals.dropna()"
   ]
  },
  {
   "cell_type": "markdown",
   "metadata": {},
   "source": [
    "Combining data with outcomes to begin modeling"
   ]
  },
  {
   "cell_type": "code",
   "execution_count": 4,
   "metadata": {},
   "outputs": [],
   "source": [
    "with open(\"Outcomes.txt\") as f:\n",
    "    content = f.readlines()\n",
    "    contents = [i.rstrip().split(',') for i in content[1:]]\n",
    "outcomes = [[i[0],i[5]] for i in contents]"
   ]
  },
  {
   "cell_type": "code",
   "execution_count": 438,
   "metadata": {},
   "outputs": [],
   "source": [
    "outcomes = pd.DataFrame(outcomes)\n",
    "outcomes = outcomes.rename(columns = {0:'RecordID',1:'Outcome'})\n",
    "outcomes = outcomes.astype(int)\n",
    "combined = pd.merge(important_vitals, outcomes, on='RecordID', how='inner')"
   ]
  },
  {
   "cell_type": "code",
   "execution_count": 601,
   "metadata": {},
   "outputs": [],
   "source": [
    "y = combined['Outcome']\n",
    "X = combined.drop(columns = ['Outcome','RecordID'])\n",
    "X_train, X_test, y_train, y_test = train_test_split(X, y, test_size=0.3, random_state=41)\n",
    "X_tr, X_te = scale(X_train, X_test)"
   ]
  },
  {
   "cell_type": "code",
   "execution_count": 5,
   "metadata": {},
   "outputs": [],
   "source": [
    "#Functions for modeling\n",
    "def scale(X_train, X_test, X_val = np.empty([0,])):\n",
    "    std = StandardScaler()\n",
    "    std.fit(X_train.values)\n",
    "    X_tr = std.transform(X_train.values)\n",
    "    X_te = std.transform(X_test.values)\n",
    "    \n",
    "    #When I want to test the set and the data\n",
    "    if X_val.size != 0 :\n",
    "        X_va = std.transform(X_val.values)\n",
    "        return X_tr, X_te, X_va\n",
    "    return X_tr, X_te\n"
   ]
  },
  {
   "cell_type": "code",
   "execution_count": 8,
   "metadata": {},
   "outputs": [],
   "source": [
    "#SCORING METRICS GIVEN CONFUSION MATRIX\n",
    "def precision(matrix):\n",
    "    if (matrix[1][1]+matrix[0][1]) == 0:\n",
    "        return -1\n",
    "    return matrix[1][1]/(matrix[1][1]+matrix[0][1])\n",
    "\n",
    "def recall(matrix):\n",
    "    if (matrix[1][1]+matrix[1][0]) == 0:\n",
    "        return -1\n",
    "    return matrix[1][1]/(matrix[1][1]+matrix[1][0])\n",
    "\n",
    "def minScore(matrix):\n",
    "    return min(precision(matrix),recall(matrix))"
   ]
  },
  {
   "cell_type": "code",
   "execution_count": 604,
   "metadata": {},
   "outputs": [],
   "source": [
    "def print_heatmap(confusion):\n",
    "    %config InlineBackend.figure_format = 'retina'\n",
    "    plt.figure(dpi=100)\n",
    "    sns.heatmap(confusion, cmap=plt.cm.Blues, annot=True, square=True, fmt='g')\n",
    "\n",
    "    plt.xlabel('Predicted Mortality')\n",
    "    plt.ylabel('Actual Mortality')\n",
    "    plt.title('Confusion Matrix');"
   ]
  },
  {
   "cell_type": "code",
   "execution_count": 602,
   "metadata": {},
   "outputs": [
    {
     "name": "stdout",
     "output_type": "stream",
     "text": [
      "The score for kNN is\n",
      "Training:  85.01%\n",
      "Test set:  82.24%\n"
     ]
    }
   ],
   "source": [
    "knn = KNeighborsClassifier(n_neighbors=5)\n",
    "knn.fit(X_tr, y_train)\n",
    "print(\"The score for kNN is\")\n",
    "print(\"Training: {:6.2f}%\".format(100*knn.score(X_tr, y_train)))\n",
    "print(\"Test set: {:6.2f}%\".format(100*knn.score(X_te, y_test)))"
   ]
  },
  {
   "cell_type": "code",
   "execution_count": 445,
   "metadata": {},
   "outputs": [
    {
     "name": "stdout",
     "output_type": "stream",
     "text": [
      "The score for logistic regression is\n",
      "Training:  85.01%\n",
      "Test set:  84.15%\n"
     ]
    }
   ],
   "source": [
    "logit = LogisticRegression(solver = 'lbfgs')\n",
    "logit.fit(X_tr, y_train)\n",
    "print(\"The score for logistic regression is\")\n",
    "print(\"Training: {:6.2f}%\".format(100*logit.score(X_tr, y_train)))\n",
    "print(\"Test set: {:6.2f}%\".format(100*logit.score(X_te, y_test)))"
   ]
  },
  {
   "cell_type": "markdown",
   "metadata": {},
   "source": [
    "Wow! Such great accuracy! I'm a genius...but wait a minute, the mortality classes are so imbalanced."
   ]
  },
  {
   "cell_type": "code",
   "execution_count": 605,
   "metadata": {},
   "outputs": [
    {
     "data": {
      "image/png": "[encoded data removed]",
      "text/plain": [
       "<Figure size 600x400 with 2 Axes>"
      ]
     },
     "metadata": {
      "image/png": {
       "height": 386,
       "width": 439
      },
      "needs_background": "light"
     },
     "output_type": "display_data"
    }
   ],
   "source": [
    "knn_confusion = confusion_matrix(y_test, knn.predict(X_te))\n",
    "print_heatmap(knn_confusion)"
   ]
  },
  {
   "cell_type": "code",
   "execution_count": 606,
   "metadata": {
    "scrolled": true
   },
   "outputs": [
    {
     "data": {
      "image/png": "[encoded data removed]",
      "text/plain": [
       "<Figure size 600x400 with 2 Axes>"
      ]
     },
     "metadata": {
      "image/png": {
       "height": 386,
       "width": 439
      },
      "needs_background": "light"
     },
     "output_type": "display_data"
    }
   ],
   "source": [
    "logit_confusion = confusion_matrix(y_test, logit.predict(X_te))\n",
    "print_heatmap(logit_confusion)"
   ]
  },
  {
   "cell_type": "markdown",
   "metadata": {},
   "source": [
    "## Scoring <br>\n",
    "Well, what do you know, the score doesn't even make any sense *because our KNN model did not predict a single death!* <br><br>\n",
    "Going forward, we are going to attempt to maximize this contest's scoring metric (the minimum of precision/recall). If not for the contest this project was derived from, I would probably favor the f1 score. While raising the recall to catch more patients at risk of mortality is good, I believe hospital resources are likely limited, so some balance of precision/recall should be reached (maybe ultimately one that does favor recall over precision to some degree)."
   ]
  },
  {
   "cell_type": "code",
   "execution_count": 15,
   "metadata": {},
   "outputs": [],
   "source": [
    "def make_confusion_matrix(model, threshold, X, y):\n",
    "    # Predict class 1 if probability of being in class 1 is greater than threshold\n",
    "    # (model.predict(X_test) does this automatically with a threshold of 0.5)\n",
    "    y_predict = (model.predict_proba(X)[:, 1] >= threshold)\n",
    "    return confusion_matrix(y, y_predict) \n",
    "\n",
    "#Score for a given threshold\n",
    "def min_threshold(model, threshold, X, y):\n",
    "    y_predict = (model.predict_proba(X)[:, 1]>= threshold)\n",
    "    return min(precision_score(y, y_predict), recall_score(y, y_predict))\n",
    "\n",
    "#f1 score for a given threshold\n",
    "def f1_threshold(model, threshold, X, y):\n",
    "    y_predict = (model.predict_proba(X)[:, 1]>= threshold)\n",
    "    return f1_score(y, y_predict)"
   ]
  },
  {
   "cell_type": "code",
   "execution_count": 13,
   "metadata": {},
   "outputs": [],
   "source": [
    "#Find threshold to maximize contest score. Use train set, then maximize threshold on test set.\n",
    "def max_score(model, X, y):\n",
    "    threshold = -1\n",
    "    score = 0\n",
    "    for i in np.linspace(0,.6,1001):\n",
    "        temp = min_threshold(model, i, X, y)\n",
    "        if temp > threshold:\n",
    "            threshold = temp\n",
    "            score = i\n",
    "    return [threshold,score]"
   ]
  },
  {
   "cell_type": "code",
   "execution_count": 11,
   "metadata": {},
   "outputs": [],
   "source": [
    "def print_score(model, X, y):\n",
    "    print(f\"The max score for {type(model).__name__} is\")\n",
    "    maxscore = max_score(model, X, y)\n",
    "    print(\"Test set: {:6.2f}% \".format(100*maxscore[0]) + \"at a threshold of {:.3f}\".format(maxscore[1]))"
   ]
  },
  {
   "cell_type": "code",
   "execution_count": 449,
   "metadata": {},
   "outputs": [
    {
     "name": "stdout",
     "output_type": "stream",
     "text": [
      "The max score for LogisticRegression is\n",
      "Test set:  45.83% at a threshold of 0.335\n"
     ]
    }
   ],
   "source": [
    "print_score(logit, X_te, y_test)"
   ]
  },
  {
   "cell_type": "code",
   "execution_count": 607,
   "metadata": {
    "scrolled": false
   },
   "outputs": [
    {
     "data": {
      "image/png": "[encoded data removed]",
      "text/plain": [
       "<Figure size 600x400 with 2 Axes>"
      ]
     },
     "metadata": {
      "image/png": {
       "height": 386,
       "width": 439
      },
      "needs_background": "light"
     },
     "output_type": "display_data"
    }
   ],
   "source": [
    "logit_confusion2 = make_confusion_matrix(logit, .335, X_te, y_test)\n",
    "print_heatmap(logit_confusion2)"
   ]
  },
  {
   "cell_type": "markdown",
   "metadata": {},
   "source": [
    "### Feature Selection \n",
    "First I tried using Recursive Feature Elimination to find features, but I would ultimately be able to get a better test prediction manually selecting features (based off OLS and Lasso), so I would abandon RFE."
   ]
  },
  {
   "cell_type": "code",
   "execution_count": 520,
   "metadata": {},
   "outputs": [
    {
     "name": "stdout",
     "output_type": "stream",
     "text": [
      "Fitting estimator with 29 features.\n",
      "Fitting estimator with 19 features.\n",
      "14 selected features\n"
     ]
    }
   ],
   "source": [
    "from sklearn.feature_selection import RFE\n",
    "\n",
    "rfe_selector = RFE(estimator=LogisticRegression(solver='lbfgs'), n_features_to_select=14, step=10, verbose=5)\n",
    "rfe_selector.fit(X_tr, y_train)\n",
    "rfe_support = rfe_selector.get_support()\n",
    "rfe_feature = X_train.loc[:,rfe_support].columns.tolist()\n",
    "print(str(len(rfe_feature)), 'selected features')"
   ]
  },
  {
   "cell_type": "code",
   "execution_count": 524,
   "metadata": {},
   "outputs": [
    {
     "data": {
      "text/plain": [
       "['Age',\n",
       " 'BUN',\n",
       " 'FiO2',\n",
       " 'GCS',\n",
       " 'Glucose',\n",
       " 'HCT',\n",
       " 'ICUType',\n",
       " 'Lactate',\n",
       " 'NIMAP',\n",
       " 'PaCO2',\n",
       " 'PaO2',\n",
       " 'SysABP',\n",
       " 'Urine',\n",
       " 'Weight']"
      ]
     },
     "execution_count": 524,
     "metadata": {},
     "output_type": "execute_result"
    }
   ],
   "source": [
    "rfe_feature"
   ]
  },
  {
   "cell_type": "code",
   "execution_count": 396,
   "metadata": {},
   "outputs": [],
   "source": [
    "pickle_in = open(\"Combined.pickle\",\"rb\")\n",
    "combined = pickle.load(pickle_in)"
   ]
  },
  {
   "cell_type": "code",
   "execution_count": 28,
   "metadata": {
    "scrolled": true
   },
   "outputs": [
    {
     "data": {
      "text/html": [
       "<table class=\"simpletable\">\n",
       "<caption>OLS Regression Results</caption>\n",
       "<tr>\n",
       "  <th>Dep. Variable:</th>         <td>Outcome</td>     <th>  R-squared:         </th> <td>   0.229</td>\n",
       "</tr>\n",
       "<tr>\n",
       "  <th>Model:</th>                   <td>OLS</td>       <th>  Adj. R-squared:    </th> <td>   0.211</td>\n",
       "</tr>\n",
       "<tr>\n",
       "  <th>Method:</th>             <td>Least Squares</td>  <th>  F-statistic:       </th> <td>   12.66</td>\n",
       "</tr>\n",
       "<tr>\n",
       "  <th>Date:</th>             <td>Mon, 05 Aug 2019</td> <th>  Prob (F-statistic):</th> <td>4.63e-50</td>\n",
       "</tr>\n",
       "<tr>\n",
       "  <th>Time:</th>                 <td>12:59:35</td>     <th>  Log-Likelihood:    </th> <td> -412.34</td>\n",
       "</tr>\n",
       "<tr>\n",
       "  <th>No. Observations:</th>      <td>  1220</td>      <th>  AIC:               </th> <td>   882.7</td>\n",
       "</tr>\n",
       "<tr>\n",
       "  <th>Df Residuals:</th>          <td>  1191</td>      <th>  BIC:               </th> <td>   1031.</td>\n",
       "</tr>\n",
       "<tr>\n",
       "  <th>Df Model:</th>              <td>    28</td>      <th>                     </th>     <td> </td>   \n",
       "</tr>\n",
       "<tr>\n",
       "  <th>Covariance Type:</th>      <td>nonrobust</td>    <th>                     </th>     <td> </td>   \n",
       "</tr>\n",
       "</table>\n",
       "<table class=\"simpletable\">\n",
       "<tr>\n",
       "       <td></td>         <th>coef</th>     <th>std err</th>      <th>t</th>      <th>P>|t|</th>  <th>[0.025</th>    <th>0.975]</th>  \n",
       "</tr>\n",
       "<tr>\n",
       "  <th>Intercept</th>  <td>    0.5392</td> <td>    0.311</td> <td>    1.734</td> <td> 0.083</td> <td>   -0.071</td> <td>    1.149</td>\n",
       "</tr>\n",
       "<tr>\n",
       "  <th>Age</th>        <td>    0.0024</td> <td>    0.001</td> <td>    3.316</td> <td> 0.001</td> <td>    0.001</td> <td>    0.004</td>\n",
       "</tr>\n",
       "<tr>\n",
       "  <th>BUN</th>        <td>    0.0040</td> <td>    0.001</td> <td>    5.327</td> <td> 0.000</td> <td>    0.003</td> <td>    0.005</td>\n",
       "</tr>\n",
       "<tr>\n",
       "  <th>Creatinine</th> <td>   -0.0120</td> <td>    0.011</td> <td>   -1.077</td> <td> 0.282</td> <td>   -0.034</td> <td>    0.010</td>\n",
       "</tr>\n",
       "<tr>\n",
       "  <th>DiasABP</th>    <td>   -0.0003</td> <td>    0.002</td> <td>   -0.144</td> <td> 0.885</td> <td>   -0.004</td> <td>    0.003</td>\n",
       "</tr>\n",
       "<tr>\n",
       "  <th>FiO2</th>       <td>    0.0042</td> <td>    0.099</td> <td>    0.042</td> <td> 0.966</td> <td>   -0.190</td> <td>    0.198</td>\n",
       "</tr>\n",
       "<tr>\n",
       "  <th>GCS</th>        <td>   -0.0261</td> <td>    0.004</td> <td>   -6.804</td> <td> 0.000</td> <td>   -0.034</td> <td>   -0.019</td>\n",
       "</tr>\n",
       "<tr>\n",
       "  <th>Glucose</th>    <td>    0.0006</td> <td>    0.000</td> <td>    2.088</td> <td> 0.037</td> <td>  3.4e-05</td> <td>    0.001</td>\n",
       "</tr>\n",
       "<tr>\n",
       "  <th>HCO3</th>       <td>    0.0001</td> <td>    0.004</td> <td>    0.030</td> <td> 0.976</td> <td>   -0.007</td> <td>    0.008</td>\n",
       "</tr>\n",
       "<tr>\n",
       "  <th>HCT</th>        <td>    0.0105</td> <td>    0.003</td> <td>    4.171</td> <td> 0.000</td> <td>    0.006</td> <td>    0.015</td>\n",
       "</tr>\n",
       "<tr>\n",
       "  <th>HR</th>         <td>    0.0017</td> <td>    0.001</td> <td>    2.035</td> <td> 0.042</td> <td> 5.98e-05</td> <td>    0.003</td>\n",
       "</tr>\n",
       "<tr>\n",
       "  <th>ICUType</th>    <td>    0.0309</td> <td>    0.011</td> <td>    2.774</td> <td> 0.006</td> <td>    0.009</td> <td>    0.053</td>\n",
       "</tr>\n",
       "<tr>\n",
       "  <th>K</th>          <td>   -0.0056</td> <td>    0.024</td> <td>   -0.238</td> <td> 0.812</td> <td>   -0.052</td> <td>    0.041</td>\n",
       "</tr>\n",
       "<tr>\n",
       "  <th>Lactate</th>    <td>    0.0350</td> <td>    0.006</td> <td>    5.391</td> <td> 0.000</td> <td>    0.022</td> <td>    0.048</td>\n",
       "</tr>\n",
       "<tr>\n",
       "  <th>MAP</th>        <td>    0.0003</td> <td>    0.001</td> <td>    0.367</td> <td> 0.714</td> <td>   -0.001</td> <td>    0.002</td>\n",
       "</tr>\n",
       "<tr>\n",
       "  <th>MechVent</th>   <td>    0.5392</td> <td>    0.311</td> <td>    1.734</td> <td> 0.083</td> <td>   -0.071</td> <td>    1.149</td>\n",
       "</tr>\n",
       "<tr>\n",
       "  <th>Mg</th>         <td>   -0.0124</td> <td>    0.033</td> <td>   -0.371</td> <td> 0.711</td> <td>   -0.078</td> <td>    0.053</td>\n",
       "</tr>\n",
       "<tr>\n",
       "  <th>NIDiasABP</th>  <td> 4.205e-05</td> <td>    0.002</td> <td>    0.017</td> <td> 0.986</td> <td>   -0.005</td> <td>    0.005</td>\n",
       "</tr>\n",
       "<tr>\n",
       "  <th>NIMAP</th>      <td>   -0.0024</td> <td>    0.003</td> <td>   -0.733</td> <td> 0.464</td> <td>   -0.009</td> <td>    0.004</td>\n",
       "</tr>\n",
       "<tr>\n",
       "  <th>NISysABP</th>   <td>    0.0009</td> <td>    0.001</td> <td>    0.726</td> <td> 0.468</td> <td>   -0.002</td> <td>    0.003</td>\n",
       "</tr>\n",
       "<tr>\n",
       "  <th>Na</th>         <td>   -0.0038</td> <td>    0.003</td> <td>   -1.430</td> <td> 0.153</td> <td>   -0.009</td> <td>    0.001</td>\n",
       "</tr>\n",
       "<tr>\n",
       "  <th>PaCO2</th>      <td>   -0.0032</td> <td>    0.002</td> <td>   -1.516</td> <td> 0.130</td> <td>   -0.007</td> <td>    0.001</td>\n",
       "</tr>\n",
       "<tr>\n",
       "  <th>PaO2</th>       <td>   -0.0002</td> <td>    0.000</td> <td>   -1.092</td> <td> 0.275</td> <td>   -0.001</td> <td>    0.000</td>\n",
       "</tr>\n",
       "<tr>\n",
       "  <th>Platelets</th>  <td>-5.279e-05</td> <td>    0.000</td> <td>   -0.482</td> <td> 0.630</td> <td>   -0.000</td> <td>    0.000</td>\n",
       "</tr>\n",
       "<tr>\n",
       "  <th>SysABP</th>     <td>   -0.0009</td> <td>    0.001</td> <td>   -0.911</td> <td> 0.362</td> <td>   -0.003</td> <td>    0.001</td>\n",
       "</tr>\n",
       "<tr>\n",
       "  <th>Temp</th>       <td>   -0.0167</td> <td>    0.012</td> <td>   -1.340</td> <td> 0.180</td> <td>   -0.041</td> <td>    0.008</td>\n",
       "</tr>\n",
       "<tr>\n",
       "  <th>Urine</th>      <td>   -0.0002</td> <td>    0.000</td> <td>   -2.114</td> <td> 0.035</td> <td>   -0.000</td> <td>-1.58e-05</td>\n",
       "</tr>\n",
       "<tr>\n",
       "  <th>WBC</th>        <td>    0.0006</td> <td>    0.002</td> <td>    0.379</td> <td> 0.705</td> <td>   -0.003</td> <td>    0.004</td>\n",
       "</tr>\n",
       "<tr>\n",
       "  <th>Weight</th>     <td>   -0.0012</td> <td>    0.000</td> <td>   -2.948</td> <td> 0.003</td> <td>   -0.002</td> <td>   -0.000</td>\n",
       "</tr>\n",
       "<tr>\n",
       "  <th>pH</th>         <td>    0.0043</td> <td>    0.003</td> <td>    1.674</td> <td> 0.094</td> <td>   -0.001</td> <td>    0.009</td>\n",
       "</tr>\n",
       "</table>\n",
       "<table class=\"simpletable\">\n",
       "<tr>\n",
       "  <th>Omnibus:</th>       <td>195.434</td> <th>  Durbin-Watson:     </th> <td>   2.031</td>\n",
       "</tr>\n",
       "<tr>\n",
       "  <th>Prob(Omnibus):</th> <td> 0.000</td>  <th>  Jarque-Bera (JB):  </th> <td> 293.980</td>\n",
       "</tr>\n",
       "<tr>\n",
       "  <th>Skew:</th>          <td> 1.162</td>  <th>  Prob(JB):          </th> <td>1.46e-64</td>\n",
       "</tr>\n",
       "<tr>\n",
       "  <th>Kurtosis:</th>      <td> 3.618</td>  <th>  Cond. No.          </th> <td>3.19e+15</td>\n",
       "</tr>\n",
       "</table><br/><br/>Warnings:<br/>[1] Standard Errors assume that the covariance matrix of the errors is correctly specified.<br/>[2] The smallest eigenvalue is 2.25e-23. This might indicate that there are<br/>strong multicollinearity problems or that the design matrix is singular."
      ],
      "text/plain": [
       "<class 'statsmodels.iolib.summary.Summary'>\n",
       "\"\"\"\n",
       "                            OLS Regression Results                            \n",
       "==============================================================================\n",
       "Dep. Variable:                Outcome   R-squared:                       0.229\n",
       "Model:                            OLS   Adj. R-squared:                  0.211\n",
       "Method:                 Least Squares   F-statistic:                     12.66\n",
       "Date:                Mon, 05 Aug 2019   Prob (F-statistic):           4.63e-50\n",
       "Time:                        12:59:35   Log-Likelihood:                -412.34\n",
       "No. Observations:                1220   AIC:                             882.7\n",
       "Df Residuals:                    1191   BIC:                             1031.\n",
       "Df Model:                          28                                         \n",
       "Covariance Type:            nonrobust                                         \n",
       "==============================================================================\n",
       "                 coef    std err          t      P>|t|      [0.025      0.975]\n",
       "------------------------------------------------------------------------------\n",
       "Intercept      0.5392      0.311      1.734      0.083      -0.071       1.149\n",
       "Age            0.0024      0.001      3.316      0.001       0.001       0.004\n",
       "BUN            0.0040      0.001      5.327      0.000       0.003       0.005\n",
       "Creatinine    -0.0120      0.011     -1.077      0.282      -0.034       0.010\n",
       "DiasABP       -0.0003      0.002     -0.144      0.885      -0.004       0.003\n",
       "FiO2           0.0042      0.099      0.042      0.966      -0.190       0.198\n",
       "GCS           -0.0261      0.004     -6.804      0.000      -0.034      -0.019\n",
       "Glucose        0.0006      0.000      2.088      0.037     3.4e-05       0.001\n",
       "HCO3           0.0001      0.004      0.030      0.976      -0.007       0.008\n",
       "HCT            0.0105      0.003      4.171      0.000       0.006       0.015\n",
       "HR             0.0017      0.001      2.035      0.042    5.98e-05       0.003\n",
       "ICUType        0.0309      0.011      2.774      0.006       0.009       0.053\n",
       "K             -0.0056      0.024     -0.238      0.812      -0.052       0.041\n",
       "Lactate        0.0350      0.006      5.391      0.000       0.022       0.048\n",
       "MAP            0.0003      0.001      0.367      0.714      -0.001       0.002\n",
       "MechVent       0.5392      0.311      1.734      0.083      -0.071       1.149\n",
       "Mg            -0.0124      0.033     -0.371      0.711      -0.078       0.053\n",
       "NIDiasABP   4.205e-05      0.002      0.017      0.986      -0.005       0.005\n",
       "NIMAP         -0.0024      0.003     -0.733      0.464      -0.009       0.004\n",
       "NISysABP       0.0009      0.001      0.726      0.468      -0.002       0.003\n",
       "Na            -0.0038      0.003     -1.430      0.153      -0.009       0.001\n",
       "PaCO2         -0.0032      0.002     -1.516      0.130      -0.007       0.001\n",
       "PaO2          -0.0002      0.000     -1.092      0.275      -0.001       0.000\n",
       "Platelets  -5.279e-05      0.000     -0.482      0.630      -0.000       0.000\n",
       "SysABP        -0.0009      0.001     -0.911      0.362      -0.003       0.001\n",
       "Temp          -0.0167      0.012     -1.340      0.180      -0.041       0.008\n",
       "Urine         -0.0002      0.000     -2.114      0.035      -0.000   -1.58e-05\n",
       "WBC            0.0006      0.002      0.379      0.705      -0.003       0.004\n",
       "Weight        -0.0012      0.000     -2.948      0.003      -0.002      -0.000\n",
       "pH             0.0043      0.003      1.674      0.094      -0.001       0.009\n",
       "==============================================================================\n",
       "Omnibus:                      195.434   Durbin-Watson:                   2.031\n",
       "Prob(Omnibus):                  0.000   Jarque-Bera (JB):              293.980\n",
       "Skew:                           1.162   Prob(JB):                     1.46e-64\n",
       "Kurtosis:                       3.618   Cond. No.                     3.19e+15\n",
       "==============================================================================\n",
       "\n",
       "Warnings:\n",
       "[1] Standard Errors assume that the covariance matrix of the errors is correctly specified.\n",
       "[2] The smallest eigenvalue is 2.25e-23. This might indicate that there are\n",
       "strong multicollinearity problems or that the design matrix is singular.\n",
       "\"\"\""
      ]
     },
     "execution_count": 28,
     "metadata": {},
     "output_type": "execute_result"
    }
   ],
   "source": [
    "yXstring = 'Outcome ~ Age + BUN + Creatinine + DiasABP + FiO2 + GCS + Glucose + HCO3 +HCT + HR + ICUType + K + Lactate + MAP + MechVent + Mg +NIDiasABP + NIMAP + NISysABP + Na + PaCO2 + PaO2 + Platelets + SysABP + Temp + Urine + WBC + Weight + pH'\n",
    "y, X = patsy.dmatrices(yXstring, data=combined, return_type=\"dataframe\")\n",
    "model = sm.OLS(y, X)\n",
    "fit = model.fit()\n",
    "fit.summary()"
   ]
  },
  {
   "cell_type": "markdown",
   "metadata": {},
   "source": [
    "Let's see if we can improve the model by dropping some columns."
   ]
  },
  {
   "cell_type": "code",
   "execution_count": 423,
   "metadata": {},
   "outputs": [],
   "source": [
    "combinedDropped = combined.drop(columns = ['Creatinine','DiasABP','FiO2','Glucose', 'HCO3','K','MAP','MechVent','Mg','Na','NIMAP','NISysABP','NIDiasABP','Platelets','Temp','PaO2', 'SysABP','WBC'])"
   ]
  },
  {
   "cell_type": "code",
   "execution_count": 450,
   "metadata": {},
   "outputs": [
    {
     "name": "stdout",
     "output_type": "stream",
     "text": [
      "The max score for KNeighborsClassifier is\n",
      "Test set:  44.93% at a threshold of 0.201\n"
     ]
    }
   ],
   "source": [
    "knn = KNeighborsClassifier(n_neighbors=5)\n",
    "knn.fit(X_tr, y_train)\n",
    "print_score(knn, X_te, y_test)"
   ]
  },
  {
   "cell_type": "code",
   "execution_count": 451,
   "metadata": {},
   "outputs": [
    {
     "name": "stdout",
     "output_type": "stream",
     "text": [
      "The max score for LogisticRegression is\n",
      "Test set:  45.83% at a threshold of 0.335\n"
     ]
    }
   ],
   "source": [
    "logit = LogisticRegression(solver = 'lbfgs')\n",
    "logit.fit(X_tr, label_train)\n",
    "print_score(logit, X_te, y_test)"
   ]
  },
  {
   "cell_type": "markdown",
   "metadata": {},
   "source": [
    "Our model improved significantly by dropping collinear columns! Interesting. <br>\n",
    "Removing these columns actually improved the logistic regression by a slight amount, while KNN was predictably unaffected."
   ]
  },
  {
   "cell_type": "markdown",
   "metadata": {},
   "source": [
    "### MICE"
   ]
  },
  {
   "cell_type": "markdown",
   "metadata": {},
   "source": [
    "Ultimately, this project is based on a competition where all values had to be precicted in the test set. So we must find a way to use our model on all of the data. \n",
    "- Using Multiple imputation by Chained Equations (MICE) to fill in missing values for columns with fewer than half the values missing. \n",
    "- The actual imputation code for the data is in the import file, but here is just an example.\n",
    "- Also, we are using the entire dataset from the competition (4000 train, 4000 test, 4000 for final scoring)\n"
   ]
  },
  {
   "cell_type": "code",
   "execution_count": 67,
   "metadata": {},
   "outputs": [],
   "source": [
    "import statsmodels.imputation.mice as smi\n",
    "#Use MICE to impute date\n",
    "def impute(data, outcomes):\n",
    "    imp = smi.MICEData(pd.merge(data, outcomes, on='RecordID'))\n",
    "    imp.update_all(10)\n",
    "    impute = imp.data\n",
    "    return impute"
   ]
  },
  {
   "cell_type": "markdown",
   "metadata": {},
   "source": [
    "First imputing just the mean for the data."
   ]
  },
  {
   "cell_type": "code",
   "execution_count": 426,
   "metadata": {},
   "outputs": [],
   "source": [
    "pickle_in = open(\"regtrain.pickle\",\"rb\")\n",
    "regtrain = pickle.load(pickle_in)\n",
    "pickle_in = open(\"regtest.pickle\",\"rb\")\n",
    "regtest = pickle.load(pickle_in)\n",
    "pickle_in = open(\"regval.pickle\",\"rb\")\n",
    "regval = pickle.load(pickle_in)"
   ]
  },
  {
   "cell_type": "code",
   "execution_count": 427,
   "metadata": {},
   "outputs": [],
   "source": [
    "y_train, X_train= regtrain['Outcome'], regtrain.drop(columns = ['Outcome','RecordID'])\n",
    "y_test, X_test = regtest['Outcome'], regtest.drop(columns = ['Outcome','RecordID'])\n",
    "X_tr, X_te = scale(X_train, X_test)"
   ]
  },
  {
   "cell_type": "code",
   "execution_count": 452,
   "metadata": {},
   "outputs": [
    {
     "name": "stdout",
     "output_type": "stream",
     "text": [
      "The max score for LogisticRegression is\n",
      "Test set:  45.83% at a threshold of 0.335\n"
     ]
    }
   ],
   "source": [
    "logit = LogisticRegression(solver = 'lbfgs')\n",
    "logit.fit(X_tr, y_train)\n",
    "print_score(logit, X_te, y_test)"
   ]
  },
  {
   "cell_type": "code",
   "execution_count": 73,
   "metadata": {},
   "outputs": [],
   "source": [
    "import statsmodels.imputation.mice as smi"
   ]
  },
  {
   "cell_type": "code",
   "execution_count": null,
   "metadata": {},
   "outputs": [],
   "source": [
    "#use MICE do impute missing data\n",
    "imp = smi.MICEData(for_impute)\n",
    "imp.update_all(5)\n",
    "impute = imp.data\n",
    "imputed = pd.merge(impute, outcomes, on='RecordID', how='inner')"
   ]
  },
  {
   "cell_type": "markdown",
   "metadata": {},
   "source": [
    "Reading in the imputed files from the data cleaning notebook."
   ]
  },
  {
   "cell_type": "code",
   "execution_count": 608,
   "metadata": {},
   "outputs": [],
   "source": [
    "pickle_in = open(\"imputed.pickle\",\"rb\")\n",
    "imputed = pickle.load(pickle_in)\n",
    "pickle_in = open(\"imputed_test.pickle\",\"rb\")\n",
    "imputed_test = pickle.load(pickle_in)\n",
    "pickle_in = open(\"imputed_val.pickle\",\"rb\")\n",
    "imputed_val = pickle.load(pickle_in)"
   ]
  },
  {
   "cell_type": "code",
   "execution_count": 609,
   "metadata": {},
   "outputs": [],
   "source": [
    "y_train, X_train= imputed['Outcome'], imputed.drop(columns = ['Outcome','RecordID'])\n",
    "y_test, X_test = imputed_test['Outcome'], imputed_test.drop(columns = ['Outcome','RecordID'])\n",
    "y_val, X_val = imputed_val['Outcome'], imputed_val.drop(columns = ['Outcome','RecordID'])\n",
    "X_tr, X_te, X_va = scale(X_train, X_test, X_val)"
   ]
  },
  {
   "cell_type": "code",
   "execution_count": 610,
   "metadata": {
    "scrolled": false
   },
   "outputs": [
    {
     "name": "stdout",
     "output_type": "stream",
     "text": [
      "The max score for LogisticRegression is\n",
      "Test set:  48.06% at a threshold of 0.284\n"
     ]
    },
    {
     "data": {
      "image/png": "[encoded data removed]",
      "text/plain": [
       "<Figure size 600x400 with 2 Axes>"
      ]
     },
     "metadata": {
      "image/png": {
       "height": 386,
       "width": 448
      },
      "needs_background": "light"
     },
     "output_type": "display_data"
    }
   ],
   "source": [
    "logit = LogisticRegression(solver = 'lbfgs')\n",
    "logit.fit(X_tr, y_train)\n",
    "logit_confusion = confusion_matrix(y_test, logit.predict(X_te))\n",
    "print_heatmap(logit_confusion)\n",
    "print_score(logit, X_te, y_test)"
   ]
  },
  {
   "cell_type": "markdown",
   "metadata": {},
   "source": [
    "MICE considerably improved my score. Success!"
   ]
  },
  {
   "cell_type": "markdown",
   "metadata": {},
   "source": [
    "### Standard Deviation"
   ]
  },
  {
   "cell_type": "markdown",
   "metadata": {},
   "source": [
    "My hypothesis was that patients who had multiple readings of some feature that exhibited large standard deviations could indicate failing health, so I tried to add standard deviations of a few features as a feature."
   ]
  },
  {
   "cell_type": "code",
   "execution_count": 134,
   "metadata": {},
   "outputs": [],
   "source": [
    "pickle_in = open(\"imputed_std.pickle\",\"rb\")\n",
    "imputed_std = pickle.load(pickle_in)\n",
    "pickle_in = open(\"imp_std_test.pickle\",\"rb\")\n",
    "imp_std_test = pickle.load(pickle_in)\n",
    "pickle_in = open(\"imp_std_val.pickle\",\"rb\")\n",
    "imp_std_val = pickle.load(pickle_in)"
   ]
  },
  {
   "cell_type": "code",
   "execution_count": 136,
   "metadata": {
    "scrolled": true
   },
   "outputs": [
    {
     "data": {
      "text/html": [
       "<table class=\"simpletable\">\n",
       "<caption>OLS Regression Results</caption>\n",
       "<tr>\n",
       "  <th>Dep. Variable:</th>         <td>Outcome</td>     <th>  R-squared:         </th> <td>   0.042</td>\n",
       "</tr>\n",
       "<tr>\n",
       "  <th>Model:</th>                   <td>OLS</td>       <th>  Adj. R-squared:    </th> <td>   0.037</td>\n",
       "</tr>\n",
       "<tr>\n",
       "  <th>Method:</th>             <td>Least Squares</td>  <th>  F-statistic:       </th> <td>   8.737</td>\n",
       "</tr>\n",
       "<tr>\n",
       "  <th>Date:</th>             <td>Sun, 04 Aug 2019</td> <th>  Prob (F-statistic):</th> <td>4.65e-26</td>\n",
       "</tr>\n",
       "<tr>\n",
       "  <th>Time:</th>                 <td>04:22:27</td>     <th>  Log-Likelihood:    </th> <td> -1337.9</td>\n",
       "</tr>\n",
       "<tr>\n",
       "  <th>No. Observations:</th>      <td>  4000</td>      <th>  AIC:               </th> <td>   2718.</td>\n",
       "</tr>\n",
       "<tr>\n",
       "  <th>Df Residuals:</th>          <td>  3979</td>      <th>  BIC:               </th> <td>   2850.</td>\n",
       "</tr>\n",
       "<tr>\n",
       "  <th>Df Model:</th>              <td>    20</td>      <th>                     </th>     <td> </td>   \n",
       "</tr>\n",
       "<tr>\n",
       "  <th>Covariance Type:</th>      <td>nonrobust</td>    <th>                     </th>     <td> </td>   \n",
       "</tr>\n",
       "</table>\n",
       "<table class=\"simpletable\">\n",
       "<tr>\n",
       "         <td></td>           <th>coef</th>     <th>std err</th>      <th>t</th>      <th>P>|t|</th>  <th>[0.025</th>    <th>0.975]</th>  \n",
       "</tr>\n",
       "<tr>\n",
       "  <th>Intercept</th>      <td>    0.0824</td> <td>    0.024</td> <td>    3.429</td> <td> 0.001</td> <td>    0.035</td> <td>    0.130</td>\n",
       "</tr>\n",
       "<tr>\n",
       "  <th>BUN_std</th>        <td>    0.0019</td> <td>    0.002</td> <td>    1.043</td> <td> 0.297</td> <td>   -0.002</td> <td>    0.005</td>\n",
       "</tr>\n",
       "<tr>\n",
       "  <th>Creatinine_std</th> <td>    0.0472</td> <td>    0.025</td> <td>    1.878</td> <td> 0.060</td> <td>   -0.002</td> <td>    0.096</td>\n",
       "</tr>\n",
       "<tr>\n",
       "  <th>DiasABP_std</th>    <td>   -0.0045</td> <td>    0.002</td> <td>   -2.233</td> <td> 0.026</td> <td>   -0.008</td> <td>   -0.001</td>\n",
       "</tr>\n",
       "<tr>\n",
       "  <th>FiO2_std</th>       <td>   -0.1862</td> <td>    0.069</td> <td>   -2.689</td> <td> 0.007</td> <td>   -0.322</td> <td>   -0.050</td>\n",
       "</tr>\n",
       "<tr>\n",
       "  <th>GCS_std</th>        <td>   -0.0134</td> <td>    0.004</td> <td>   -3.409</td> <td> 0.001</td> <td>   -0.021</td> <td>   -0.006</td>\n",
       "</tr>\n",
       "<tr>\n",
       "  <th>Glucose_std</th>    <td>    0.0005</td> <td>    0.000</td> <td>    3.313</td> <td> 0.001</td> <td>    0.000</td> <td>    0.001</td>\n",
       "</tr>\n",
       "<tr>\n",
       "  <th>HCO3_std</th>       <td>    0.0029</td> <td>    0.005</td> <td>    0.638</td> <td> 0.524</td> <td>   -0.006</td> <td>    0.012</td>\n",
       "</tr>\n",
       "<tr>\n",
       "  <th>HCT_std</th>        <td>    0.0033</td> <td>    0.004</td> <td>    0.804</td> <td> 0.422</td> <td>   -0.005</td> <td>    0.011</td>\n",
       "</tr>\n",
       "<tr>\n",
       "  <th>HR_std</th>         <td>    0.0054</td> <td>    0.001</td> <td>    4.602</td> <td> 0.000</td> <td>    0.003</td> <td>    0.008</td>\n",
       "</tr>\n",
       "<tr>\n",
       "  <th>K_std</th>          <td>    0.0011</td> <td>    0.017</td> <td>    0.068</td> <td> 0.946</td> <td>   -0.032</td> <td>    0.034</td>\n",
       "</tr>\n",
       "<tr>\n",
       "  <th>MAP_std</th>        <td>    0.0025</td> <td>    0.001</td> <td>    1.985</td> <td> 0.047</td> <td> 3.17e-05</td> <td>    0.005</td>\n",
       "</tr>\n",
       "<tr>\n",
       "  <th>Mg_std</th>         <td>   -0.0188</td> <td>    0.030</td> <td>   -0.624</td> <td> 0.533</td> <td>   -0.078</td> <td>    0.040</td>\n",
       "</tr>\n",
       "<tr>\n",
       "  <th>PaCO2_std</th>      <td>    0.0015</td> <td>    0.002</td> <td>    0.790</td> <td> 0.430</td> <td>   -0.002</td> <td>    0.005</td>\n",
       "</tr>\n",
       "<tr>\n",
       "  <th>PaO2_std</th>       <td>   7.5e-06</td> <td>    0.000</td> <td>    0.049</td> <td> 0.961</td> <td>   -0.000</td> <td>    0.000</td>\n",
       "</tr>\n",
       "<tr>\n",
       "  <th>Platelets_std</th>  <td>-3.838e-05</td> <td>    0.000</td> <td>   -0.147</td> <td> 0.883</td> <td>   -0.001</td> <td>    0.000</td>\n",
       "</tr>\n",
       "<tr>\n",
       "  <th>SysABP_std</th>     <td>    0.0022</td> <td>    0.001</td> <td>    1.949</td> <td> 0.051</td> <td>-1.27e-05</td> <td>    0.004</td>\n",
       "</tr>\n",
       "<tr>\n",
       "  <th>Temp_std</th>       <td>   -0.0007</td> <td>    0.004</td> <td>   -0.180</td> <td> 0.857</td> <td>   -0.008</td> <td>    0.007</td>\n",
       "</tr>\n",
       "<tr>\n",
       "  <th>Urine_std</th>      <td>   -0.0003</td> <td> 5.21e-05</td> <td>   -6.450</td> <td> 0.000</td> <td>   -0.000</td> <td>   -0.000</td>\n",
       "</tr>\n",
       "<tr>\n",
       "  <th>WBC_std</th>        <td>    0.0091</td> <td>    0.003</td> <td>    3.469</td> <td> 0.001</td> <td>    0.004</td> <td>    0.014</td>\n",
       "</tr>\n",
       "<tr>\n",
       "  <th>pH_std</th>         <td>    0.0018</td> <td>    0.001</td> <td>    1.942</td> <td> 0.052</td> <td>-1.78e-05</td> <td>    0.004</td>\n",
       "</tr>\n",
       "</table>\n",
       "<table class=\"simpletable\">\n",
       "<tr>\n",
       "  <th>Omnibus:</th>       <td>1381.919</td> <th>  Durbin-Watson:     </th> <td>   1.981</td>\n",
       "</tr>\n",
       "<tr>\n",
       "  <th>Prob(Omnibus):</th>  <td> 0.000</td>  <th>  Jarque-Bera (JB):  </th> <td>3436.474</td>\n",
       "</tr>\n",
       "<tr>\n",
       "  <th>Skew:</th>           <td> 1.975</td>  <th>  Prob(JB):          </th> <td>    0.00</td>\n",
       "</tr>\n",
       "<tr>\n",
       "  <th>Kurtosis:</th>       <td> 5.239</td>  <th>  Cond. No.          </th> <td>2.23e+03</td>\n",
       "</tr>\n",
       "</table><br/><br/>Warnings:<br/>[1] Standard Errors assume that the covariance matrix of the errors is correctly specified.<br/>[2] The condition number is large, 2.23e+03. This might indicate that there are<br/>strong multicollinearity or other numerical problems."
      ],
      "text/plain": [
       "<class 'statsmodels.iolib.summary.Summary'>\n",
       "\"\"\"\n",
       "                            OLS Regression Results                            \n",
       "==============================================================================\n",
       "Dep. Variable:                Outcome   R-squared:                       0.042\n",
       "Model:                            OLS   Adj. R-squared:                  0.037\n",
       "Method:                 Least Squares   F-statistic:                     8.737\n",
       "Date:                Sun, 04 Aug 2019   Prob (F-statistic):           4.65e-26\n",
       "Time:                        04:22:27   Log-Likelihood:                -1337.9\n",
       "No. Observations:                4000   AIC:                             2718.\n",
       "Df Residuals:                    3979   BIC:                             2850.\n",
       "Df Model:                          20                                         \n",
       "Covariance Type:            nonrobust                                         \n",
       "==================================================================================\n",
       "                     coef    std err          t      P>|t|      [0.025      0.975]\n",
       "----------------------------------------------------------------------------------\n",
       "Intercept          0.0824      0.024      3.429      0.001       0.035       0.130\n",
       "BUN_std            0.0019      0.002      1.043      0.297      -0.002       0.005\n",
       "Creatinine_std     0.0472      0.025      1.878      0.060      -0.002       0.096\n",
       "DiasABP_std       -0.0045      0.002     -2.233      0.026      -0.008      -0.001\n",
       "FiO2_std          -0.1862      0.069     -2.689      0.007      -0.322      -0.050\n",
       "GCS_std           -0.0134      0.004     -3.409      0.001      -0.021      -0.006\n",
       "Glucose_std        0.0005      0.000      3.313      0.001       0.000       0.001\n",
       "HCO3_std           0.0029      0.005      0.638      0.524      -0.006       0.012\n",
       "HCT_std            0.0033      0.004      0.804      0.422      -0.005       0.011\n",
       "HR_std             0.0054      0.001      4.602      0.000       0.003       0.008\n",
       "K_std              0.0011      0.017      0.068      0.946      -0.032       0.034\n",
       "MAP_std            0.0025      0.001      1.985      0.047    3.17e-05       0.005\n",
       "Mg_std            -0.0188      0.030     -0.624      0.533      -0.078       0.040\n",
       "PaCO2_std          0.0015      0.002      0.790      0.430      -0.002       0.005\n",
       "PaO2_std          7.5e-06      0.000      0.049      0.961      -0.000       0.000\n",
       "Platelets_std  -3.838e-05      0.000     -0.147      0.883      -0.001       0.000\n",
       "SysABP_std         0.0022      0.001      1.949      0.051   -1.27e-05       0.004\n",
       "Temp_std          -0.0007      0.004     -0.180      0.857      -0.008       0.007\n",
       "Urine_std         -0.0003   5.21e-05     -6.450      0.000      -0.000      -0.000\n",
       "WBC_std            0.0091      0.003      3.469      0.001       0.004       0.014\n",
       "pH_std             0.0018      0.001      1.942      0.052   -1.78e-05       0.004\n",
       "==============================================================================\n",
       "Omnibus:                     1381.919   Durbin-Watson:                   1.981\n",
       "Prob(Omnibus):                  0.000   Jarque-Bera (JB):             3436.474\n",
       "Skew:                           1.975   Prob(JB):                         0.00\n",
       "Kurtosis:                       5.239   Cond. No.                     2.23e+03\n",
       "==============================================================================\n",
       "\n",
       "Warnings:\n",
       "[1] Standard Errors assume that the covariance matrix of the errors is correctly specified.\n",
       "[2] The condition number is large, 2.23e+03. This might indicate that there are\n",
       "strong multicollinearity or other numerical problems.\n",
       "\"\"\""
      ]
     },
     "execution_count": 136,
     "metadata": {},
     "output_type": "execute_result"
    }
   ],
   "source": [
    "yXstring = 'Outcome ~ BUN_std + Creatinine_std + DiasABP_std + FiO2_std + GCS_std + Glucose_std + HCO3_std +HCT_std + HR_std + K_std + MAP_std + Mg_std + PaCO2_std + PaO2_std + Platelets_std + SysABP_std + Temp_std+ Urine_std + WBC_std + pH_std'\n",
    "y, X = patsy.dmatrices(yXstring, data=imputed_std, return_type=\"dataframe\")\n",
    "model = sm.OLS(y, X)\n",
    "fit = model.fit()\n",
    "fit.summary()"
   ]
  },
  {
   "cell_type": "markdown",
   "metadata": {},
   "source": [
    "Based off the OLS coefficients and p values, selecting two standard deviation features that seem to make some impact on regression."
   ]
  },
  {
   "cell_type": "code",
   "execution_count": 233,
   "metadata": {},
   "outputs": [],
   "source": [
    "stdgories = ['GCS_std','Glucose_std','HR_std','WBC_std']"
   ]
  },
  {
   "cell_type": "code",
   "execution_count": 21,
   "metadata": {},
   "outputs": [],
   "source": [
    "#Bring in combined data with these features\n",
    "pickle_in = open(\"all_train.pickle\",\"rb\")\n",
    "all_train = pickle.load(pickle_in)\n",
    "pickle_in = open(\"all_test.pickle\",\"rb\")\n",
    "all_test = pickle.load(pickle_in)\n",
    "pickle_in = open(\"all_val.pickle\",\"rb\")\n",
    "all_val = pickle.load(pickle_in)"
   ]
  },
  {
   "cell_type": "code",
   "execution_count": 22,
   "metadata": {},
   "outputs": [],
   "source": [
    "X_train, y_train= all_train.drop(columns = ['Outcome','RecordID']), all_train['Outcome']\n",
    "X_test, y_test = all_test.drop(columns = ['Outcome','RecordID']), all_test['Outcome']\n",
    "X_val, y_val = all_val.drop(columns = ['Outcome','RecordID']), all_val['Outcome']\n",
    "X_tr, X_te, X_va = scale(X_train, X_test, X_val)"
   ]
  },
  {
   "cell_type": "code",
   "execution_count": 23,
   "metadata": {
    "scrolled": true
   },
   "outputs": [
    {
     "name": "stdout",
     "output_type": "stream",
     "text": [
      "The max score for LogisticRegression is\n",
      "Test set:  48.09% at a threshold of 0.282\n"
     ]
    }
   ],
   "source": [
    "logit_all = LogisticRegression(solver = 'lbfgs')\n",
    "logit_all.fit(X_tr, y_train)\n",
    "print_score(logit_all, X_te, y_test)"
   ]
  },
  {
   "cell_type": "markdown",
   "metadata": {},
   "source": [
    "This is the best score yet, and will ultimately prove to be the best reliable score."
   ]
  },
  {
   "cell_type": "code",
   "execution_count": 24,
   "metadata": {},
   "outputs": [
    {
     "name": "stdout",
     "output_type": "stream",
     "text": [
      "The max score for BernoulliNB is\n",
      "Test set:  36.71% at a threshold of 0.446\n"
     ]
    }
   ],
   "source": [
    "#Testing Naive Bayes, not quite as good as logistic regression here\n",
    "nb_all = BernoulliNB()\n",
    "nb_all.fit(X_tr, y_train)\n",
    "print_score(nb_all, X_te, y_test)"
   ]
  },
  {
   "cell_type": "markdown",
   "metadata": {},
   "source": [
    "## Primary Models"
   ]
  },
  {
   "cell_type": "markdown",
   "metadata": {},
   "source": [
    "### Grid Search"
   ]
  },
  {
   "cell_type": "markdown",
   "metadata": {},
   "source": [
    "**Random Forest**"
   ]
  },
  {
   "cell_type": "code",
   "execution_count": 461,
   "metadata": {},
   "outputs": [],
   "source": [
    "from sklearn.model_selection import GridSearchCV"
   ]
  },
  {
   "cell_type": "code",
   "execution_count": 333,
   "metadata": {},
   "outputs": [],
   "source": [
    "param_grid = {\n",
    "    'bootstrap': [True],\n",
    "    'max_depth': [80, 90, 100, 110],\n",
    "    'max_features': [2, 3],\n",
    "    'min_samples_leaf': [3, 4, 5],\n",
    "    'min_samples_split': [8, 10, 12],\n",
    "    'n_estimators': [100, 200, 300, 1000]\n",
    "}\n",
    "# Create a based model\n",
    "rf = RandomForestClassifier()\n",
    "# Instantiate the grid search model\n",
    "grid_search = GridSearchCV(estimator = rf, param_grid = param_grid, \n",
    "                          cv = 3, n_jobs = 4, verbose = 2)"
   ]
  },
  {
   "cell_type": "code",
   "execution_count": 334,
   "metadata": {},
   "outputs": [
    {
     "name": "stdout",
     "output_type": "stream",
     "text": [
      "Fitting 3 folds for each of 288 candidates, totalling 864 fits\n"
     ]
    },
    {
     "name": "stderr",
     "output_type": "stream",
     "text": [
      "[Parallel(n_jobs=4)]: Using backend LokyBackend with 4 concurrent workers.\n",
      "[Parallel(n_jobs=4)]: Done  33 tasks      | elapsed:   22.9s\n",
      "[Parallel(n_jobs=4)]: Done 154 tasks      | elapsed:  1.8min\n",
      "[Parallel(n_jobs=4)]: Done 357 tasks      | elapsed:  4.2min\n",
      "[Parallel(n_jobs=4)]: Done 640 tasks      | elapsed:  7.3min\n",
      "[Parallel(n_jobs=4)]: Done 864 out of 864 | elapsed:  9.6min finished\n"
     ]
    },
    {
     "data": {
      "text/plain": [
       "{'bootstrap': True,\n",
       " 'max_depth': 90,\n",
       " 'max_features': 3,\n",
       " 'min_samples_leaf': 3,\n",
       " 'min_samples_split': 10,\n",
       " 'n_estimators': 100}"
      ]
     },
     "execution_count": 334,
     "metadata": {},
     "output_type": "execute_result"
    }
   ],
   "source": [
    "grid_search.fit(X_tr, y_train)\n",
    "grid_search.best_params_"
   ]
  },
  {
   "cell_type": "code",
   "execution_count": 25,
   "metadata": {},
   "outputs": [],
   "source": [
    "rf_all = RandomForestClassifier(bootstrap = True,\n",
    " max_depth = 90,\n",
    " max_features = 3,\n",
    " min_samples_leaf= 3,\n",
    " min_samples_split= 10,\n",
    " n_estimators= 100)"
   ]
  },
  {
   "cell_type": "code",
   "execution_count": 507,
   "metadata": {},
   "outputs": [
    {
     "name": "stdout",
     "output_type": "stream",
     "text": [
      "The max score for RandomForestClassifier is\n",
      "Test set:  48.59% at a threshold of 0.300\n"
     ]
    }
   ],
   "source": [
    "rf_all.fit(X_tr, y_train)\n",
    "print_score(rf_all, X_te, y_test)"
   ]
  },
  {
   "cell_type": "code",
   "execution_count": 510,
   "metadata": {},
   "outputs": [],
   "source": [
    "pickle_out = open(\"RandomForestModel\",\"wb\")\n",
    "pickle.dump(rf_all, pickle_out)"
   ]
  },
  {
   "cell_type": "markdown",
   "metadata": {},
   "source": [
    "The RandomForest is a slight improvement over Logistic."
   ]
  },
  {
   "cell_type": "markdown",
   "metadata": {},
   "source": [
    "## XGBoost"
   ]
  },
  {
   "cell_type": "code",
   "execution_count": 27,
   "metadata": {},
   "outputs": [
    {
     "name": "stdout",
     "output_type": "stream",
     "text": [
      "The max score for XGBClassifier is\n",
      "Test set:  49.82% at a threshold of 0.290\n"
     ]
    }
   ],
   "source": [
    "xgb = XGBClassifier()\n",
    "xgb.fit(X_tr, y_train);\n",
    "print_score(xgb, X_te, y_test)"
   ]
  },
  {
   "cell_type": "markdown",
   "metadata": {},
   "source": [
    "XGBoost to the flipping rescue! Even without gridsearch it beats other models handily."
   ]
  },
  {
   "cell_type": "code",
   "execution_count": 527,
   "metadata": {},
   "outputs": [],
   "source": [
    "param_grid = {\n",
    "    'learning_rate': [.01, .03, .06, .1],\n",
    "    'subsample': [.8, .85, .9, .95, 1],\n",
    "    'max_depth': [3, 4, 5, 6],\n",
    "    'colsample_bytree': [.3, .4, .6, .8, 1],\n",
    "    'gamma': [0, 1, 5]\n",
    "}\n",
    "# Instantiate the grid search model\n",
    "grid_search = GridSearchCV(estimator = xgb, param_grid = param_grid, \n",
    "                          cv = 3, n_jobs = 4, verbose = 2)"
   ]
  },
  {
   "cell_type": "code",
   "execution_count": 528,
   "metadata": {},
   "outputs": [
    {
     "name": "stdout",
     "output_type": "stream",
     "text": [
      "Fitting 3 folds for each of 1200 candidates, totalling 3600 fits\n"
     ]
    },
    {
     "name": "stderr",
     "output_type": "stream",
     "text": [
      "[Parallel(n_jobs=4)]: Using backend LokyBackend with 4 concurrent workers.\n",
      "[Parallel(n_jobs=4)]: Done  33 tasks      | elapsed:    7.0s\n",
      "[Parallel(n_jobs=4)]: Done 154 tasks      | elapsed:   24.3s\n",
      "[Parallel(n_jobs=4)]: Done 357 tasks      | elapsed:   54.2s\n",
      "[Parallel(n_jobs=4)]: Done 640 tasks      | elapsed:  1.6min\n",
      "[Parallel(n_jobs=4)]: Done 1005 tasks      | elapsed:  2.6min\n",
      "[Parallel(n_jobs=4)]: Done 1450 tasks      | elapsed:  3.8min\n",
      "[Parallel(n_jobs=4)]: Done 1977 tasks      | elapsed:  5.5min\n",
      "[Parallel(n_jobs=4)]: Done 2584 tasks      | elapsed:  7.7min\n",
      "[Parallel(n_jobs=4)]: Done 3273 tasks      | elapsed: 11.0min\n",
      "[Parallel(n_jobs=4)]: Done 3600 out of 3600 | elapsed: 12.7min finished\n"
     ]
    },
    {
     "data": {
      "text/plain": [
       "{'colsample_bytree': 0.8,\n",
       " 'gamma': 1,\n",
       " 'learning_rate': 0.1,\n",
       " 'max_depth': 3,\n",
       " 'subsample': 0.9}"
      ]
     },
     "execution_count": 528,
     "metadata": {},
     "output_type": "execute_result"
    }
   ],
   "source": [
    "grid_search.fit(X_tr, y_train)\n",
    "grid_search.best_params_"
   ]
  },
  {
   "cell_type": "code",
   "execution_count": 28,
   "metadata": {},
   "outputs": [],
   "source": [
    "xgb = XGBClassifier(colsample_bytree = 0.8, gamma=1, learning_rate=.1, max_depth=3, subsample=0.9)\n",
    "xgb.fit(X_tr, y_train);"
   ]
  },
  {
   "cell_type": "code",
   "execution_count": 29,
   "metadata": {},
   "outputs": [
    {
     "name": "stdout",
     "output_type": "stream",
     "text": [
      "The max score for XGBClassifier is\n",
      "Test set:  49.21% at a threshold of 0.290\n"
     ]
    }
   ],
   "source": [
    "print_score(xgb, X_te, y_test)"
   ]
  },
  {
   "cell_type": "code",
   "execution_count": 30,
   "metadata": {},
   "outputs": [
    {
     "data": {
      "text/plain": [
       "0.5111111111111111"
      ]
     },
     "execution_count": 30,
     "metadata": {},
     "output_type": "execute_result"
    }
   ],
   "source": [
    "min_threshold(xgb, .290, X_va, y_val)"
   ]
  },
  {
   "cell_type": "code",
   "execution_count": 532,
   "metadata": {},
   "outputs": [
    {
     "name": "stdout",
     "output_type": "stream",
     "text": [
      "The max score for XGBClassifier is\n",
      "Test set:  52.30% at a threshold of 0.286\n"
     ]
    }
   ],
   "source": [
    "print_score(xgb, X_va, y_val)"
   ]
  },
  {
   "cell_type": "code",
   "execution_count": 32,
   "metadata": {},
   "outputs": [],
   "source": [
    "pickle.dump(xgb, open('XGB.pickle.dat',\"wb\"))"
   ]
  },
  {
   "cell_type": "markdown",
   "metadata": {},
   "source": [
    "**Logistic Regression**"
   ]
  },
  {
   "cell_type": "code",
   "execution_count": 469,
   "metadata": {},
   "outputs": [
    {
     "name": "stdout",
     "output_type": "stream",
     "text": [
      "Best cross-validation score: 0.87\n",
      "Best paramters:  {'C': 0.1, 'penalty': 'l2', 'solver': 'liblinear'}\n",
      "Best estimator:  LogisticRegression(C=0.1, class_weight=None, dual=False, fit_intercept=True,\n",
      "                   intercept_scaling=1, l1_ratio=None, max_iter=100,\n",
      "                   multi_class='warn', n_jobs=None, penalty='l2',\n",
      "                   random_state=None, solver='liblinear', tol=0.0001, verbose=0,\n",
      "                   warm_start=False)\n"
     ]
    }
   ],
   "source": [
    "param_grid = {'C' : [0.001, 0.01, 0.1, 1, 10],\n",
    "             'solver' : ['liblinear'],\n",
    "             'penalty' : ['l1','l2']}\n",
    "\n",
    "grid = GridSearchCV(LogisticRegression(solver='lbfgs'), param_grid, cv=5)\n",
    "grid.fit(X_tr, y_train)\n",
    "\n",
    "print(\"Best cross-validation score: {:.2f}\".format(grid.best_score_))\n",
    "print(\"Best paramters: \", grid.best_params_)\n",
    "print(\"Best estimator: \", grid.best_estimator_)"
   ]
  },
  {
   "cell_type": "code",
   "execution_count": 471,
   "metadata": {},
   "outputs": [
    {
     "name": "stdout",
     "output_type": "stream",
     "text": [
      "Best cross-validation score: 0.87\n",
      "Best paramters:  {'C': 0.01, 'solver': 'lbfgs'}\n",
      "Best estimator:  LogisticRegression(C=0.01, class_weight=None, dual=False, fit_intercept=True,\n",
      "                   intercept_scaling=1, l1_ratio=None, max_iter=100,\n",
      "                   multi_class='warn', n_jobs=None, penalty='l2',\n",
      "                   random_state=None, solver='lbfgs', tol=0.0001, verbose=0,\n",
      "                   warm_start=False)\n"
     ]
    }
   ],
   "source": [
    "param_grid = {'C' : [0.001, 0.01, 0.1, 1, 10],\n",
    "             'solver' : ['lbfgs']}\n",
    "\n",
    "grid = GridSearchCV(LogisticRegression(solver='lbfgs'), param_grid, cv=5)\n",
    "grid.fit(X_tr, y_train)\n",
    "\n",
    "print(\"Best cross-validation score: {:.2f}\".format(grid.best_score_))\n",
    "print(\"Best paramters: \", grid.best_params_)\n",
    "print(\"Best estimator: \", grid.best_estimator_)"
   ]
  },
  {
   "cell_type": "markdown",
   "metadata": {},
   "source": [
    "Grid Search is not super helpful with logistic regression. I tried every permutation of LogisticRegression paramaters (L1, L2, Elastinet with different hyperparamaters), but the suggested paramters do worse on the test set. \n",
    "**Winner in a landslide is: XGBoost**"
   ]
  },
  {
   "cell_type": "markdown",
   "metadata": {},
   "source": [
    "### Precision/Recall and ROC Curves"
   ]
  },
  {
   "cell_type": "code",
   "execution_count": 617,
   "metadata": {
    "scrolled": false
   },
   "outputs": [
    {
     "data": {
      "image/png": "[encoded data removed]",
      "text/plain": [
       "<Figure size 800x480 with 1 Axes>"
      ]
     },
     "metadata": {
      "image/png": {
       "height": 430,
       "width": 661
      },
      "needs_background": "light"
     },
     "output_type": "display_data"
    }
   ],
   "source": [
    "#precision_curve for this latest random forest model\n",
    "precision_curve, recall_curve, threshold_curve = precision_recall_curve(y_test, rf_all.predict_proba(X_te)[:,1] )\n",
    "\n",
    "plt.figure(dpi=80, figsize=(10,6))\n",
    "plt.plot(threshold_curve, precision_curve[1:],label='precision')\n",
    "plt.plot(threshold_curve, recall_curve[1:], label='recall')\n",
    "plt.legend(loc='lower left')\n",
    "plt.xlabel('Threshold');\n",
    "plt.title('Precision and Recall Curves');"
   ]
  },
  {
   "cell_type": "code",
   "execution_count": 618,
   "metadata": {
    "scrolled": false
   },
   "outputs": [
    {
     "data": {
      "image/png": "[encoded data removed]",
      "text/plain": [
       "<Figure size 800x480 with 1 Axes>"
      ]
     },
     "metadata": {
      "image/png": {
       "height": 430,
       "width": 677
      },
      "needs_background": "light"
     },
     "output_type": "display_data"
    }
   ],
   "source": [
    "plt.figure(dpi=80, figsize=(10,6))\n",
    "plt.plot(recall_curve[1:], precision_curve[1:],label='precision')\n",
    "plt.xlabel(\"Recall\")\n",
    "plt.ylabel(\"Precision\")\n",
    "plt.title(\"Precision-Recall Curve\");"
   ]
  },
  {
   "cell_type": "code",
   "execution_count": 100,
   "metadata": {},
   "outputs": [],
   "source": [
    "from sklearn.metrics import roc_auc_score, roc_curve"
   ]
  },
  {
   "cell_type": "code",
   "execution_count": 636,
   "metadata": {},
   "outputs": [],
   "source": [
    "def plot_AUC(X, y, model):\n",
    "    fpr, tpr, thresholds = roc_curve(y, model.predict_proba(X)[:,1])\n",
    "    plt.plot(fpr, tpr,lw=2)\n",
    "    plt.plot([0,1],[0,1],ls='--')\n",
    "    plt.xlim([-0.05,1.05])\n",
    "    plt.ylim([-0.05,1.05])\n",
    "\n",
    "    plt.xlabel('False positive rate')\n",
    "    plt.ylabel('True positive rate')\n",
    "    plt.title('ROC curve for Mortality Prediction');\n",
    "    print(type(model).__name__ + \" ROC AUC score : {:f}\".format(roc_auc_score(y, model.predict_proba(X)[:,1])))"
   ]
  },
  {
   "cell_type": "code",
   "execution_count": 637,
   "metadata": {},
   "outputs": [
    {
     "name": "stdout",
     "output_type": "stream",
     "text": [
      "RandomForestClassifier ROC AUC score : 0.829559\n"
     ]
    },
    {
     "data": {
      "image/png": "[encoded data removed]",
      "text/plain": [
       "<Figure size 720x432 with 1 Axes>"
      ]
     },
     "metadata": {
      "image/png": {
       "height": 386,
       "width": 608
      },
      "needs_background": "light"
     },
     "output_type": "display_data"
    }
   ],
   "source": [
    "plot_AUC(X_te, y_test, rf_all)"
   ]
  },
  {
   "cell_type": "markdown",
   "metadata": {},
   "source": [
    "## Exploring FBProphet Anomaly data"
   ]
  },
  {
   "cell_type": "code",
   "execution_count": 481,
   "metadata": {},
   "outputs": [],
   "source": [
    "pickle_in = open(\"anomaly_train.pickle\",\"rb\")\n",
    "anomaly_train = pickle.load(pickle_in)\n",
    "pickle_in = open(\"anomaly_test.pickle\",\"rb\")\n",
    "anomaly_test = pickle.load(pickle_in)"
   ]
  },
  {
   "cell_type": "code",
   "execution_count": 155,
   "metadata": {
    "scrolled": true
   },
   "outputs": [
    {
     "data": {
      "text/html": [
       "<table class=\"simpletable\">\n",
       "<caption>OLS Regression Results</caption>\n",
       "<tr>\n",
       "  <th>Dep. Variable:</th>         <td>Outcome</td>     <th>  R-squared:         </th> <td>   0.010</td>\n",
       "</tr>\n",
       "<tr>\n",
       "  <th>Model:</th>                   <td>OLS</td>       <th>  Adj. R-squared:    </th> <td>   0.005</td>\n",
       "</tr>\n",
       "<tr>\n",
       "  <th>Method:</th>             <td>Least Squares</td>  <th>  F-statistic:       </th> <td>   2.187</td>\n",
       "</tr>\n",
       "<tr>\n",
       "  <th>Date:</th>             <td>Sun, 04 Aug 2019</td> <th>  Prob (F-statistic):</th>  <td>0.00263</td>\n",
       "</tr>\n",
       "<tr>\n",
       "  <th>Time:</th>                 <td>04:36:26</td>     <th>  Log-Likelihood:    </th> <td> -1404.1</td>\n",
       "</tr>\n",
       "<tr>\n",
       "  <th>No. Observations:</th>      <td>  4000</td>      <th>  AIC:               </th> <td>   2846.</td>\n",
       "</tr>\n",
       "<tr>\n",
       "  <th>Df Residuals:</th>          <td>  3981</td>      <th>  BIC:               </th> <td>   2966.</td>\n",
       "</tr>\n",
       "<tr>\n",
       "  <th>Df Model:</th>              <td>    18</td>      <th>                     </th>     <td> </td>   \n",
       "</tr>\n",
       "<tr>\n",
       "  <th>Covariance Type:</th>      <td>nonrobust</td>    <th>                     </th>     <td> </td>   \n",
       "</tr>\n",
       "</table>\n",
       "<table class=\"simpletable\">\n",
       "<tr>\n",
       "       <td></td>          <th>coef</th>     <th>std err</th>      <th>t</th>      <th>P>|t|</th>  <th>[0.025</th>    <th>0.975]</th>  \n",
       "</tr>\n",
       "<tr>\n",
       "  <th>Intercept</th>   <td>    0.1198</td> <td>    0.020</td> <td>    5.926</td> <td> 0.000</td> <td>    0.080</td> <td>    0.159</td>\n",
       "</tr>\n",
       "<tr>\n",
       "  <th>NISysABP_I</th>  <td>    0.9641</td> <td>    0.688</td> <td>    1.401</td> <td> 0.161</td> <td>   -0.385</td> <td>    2.313</td>\n",
       "</tr>\n",
       "<tr>\n",
       "  <th>NIDiasABP_I</th> <td>   -0.6544</td> <td>    0.766</td> <td>   -0.854</td> <td> 0.393</td> <td>   -2.157</td> <td>    0.848</td>\n",
       "</tr>\n",
       "<tr>\n",
       "  <th>NIMAP_I</th>     <td>   -0.1593</td> <td>    0.265</td> <td>   -0.601</td> <td> 0.548</td> <td>   -0.679</td> <td>    0.360</td>\n",
       "</tr>\n",
       "<tr>\n",
       "  <th>SysABP_I</th>    <td>    0.0723</td> <td>    1.123</td> <td>    0.064</td> <td> 0.949</td> <td>   -2.128</td> <td>    2.273</td>\n",
       "</tr>\n",
       "<tr>\n",
       "  <th>DiasABP_I</th>   <td>    0.2022</td> <td>    0.477</td> <td>    0.424</td> <td> 0.672</td> <td>   -0.733</td> <td>    1.137</td>\n",
       "</tr>\n",
       "<tr>\n",
       "  <th>MAP_I</th>       <td>    0.1293</td> <td>    0.203</td> <td>    0.636</td> <td> 0.525</td> <td>   -0.270</td> <td>    0.528</td>\n",
       "</tr>\n",
       "<tr>\n",
       "  <th>Temp_I</th>      <td>   -0.2715</td> <td>    0.476</td> <td>   -0.571</td> <td> 0.568</td> <td>   -1.204</td> <td>    0.661</td>\n",
       "</tr>\n",
       "<tr>\n",
       "  <th>HR_I</th>        <td>    1.2010</td> <td>    1.447</td> <td>    0.830</td> <td> 0.407</td> <td>   -1.637</td> <td>    4.039</td>\n",
       "</tr>\n",
       "<tr>\n",
       "  <th>Weight_I</th>    <td>   -0.0309</td> <td>    0.048</td> <td>   -0.638</td> <td> 0.523</td> <td>   -0.126</td> <td>    0.064</td>\n",
       "</tr>\n",
       "<tr>\n",
       "  <th>NISysABP_A</th>  <td>   -0.0001</td> <td>    0.006</td> <td>   -0.025</td> <td> 0.980</td> <td>   -0.011</td> <td>    0.011</td>\n",
       "</tr>\n",
       "<tr>\n",
       "  <th>NIDiasABP_A</th> <td>    0.0097</td> <td>    0.006</td> <td>    1.652</td> <td> 0.099</td> <td>   -0.002</td> <td>    0.021</td>\n",
       "</tr>\n",
       "<tr>\n",
       "  <th>NIMAP_A</th>     <td>   -0.0079</td> <td>    0.006</td> <td>   -1.293</td> <td> 0.196</td> <td>   -0.020</td> <td>    0.004</td>\n",
       "</tr>\n",
       "<tr>\n",
       "  <th>SysABP_A</th>    <td>    0.0052</td> <td>    0.005</td> <td>    1.081</td> <td> 0.280</td> <td>   -0.004</td> <td>    0.015</td>\n",
       "</tr>\n",
       "<tr>\n",
       "  <th>DiasABP_A</th>   <td>    0.0140</td> <td>    0.005</td> <td>    2.865</td> <td> 0.004</td> <td>    0.004</td> <td>    0.024</td>\n",
       "</tr>\n",
       "<tr>\n",
       "  <th>MAP_A</th>       <td>   -0.0203</td> <td>    0.005</td> <td>   -4.037</td> <td> 0.000</td> <td>   -0.030</td> <td>   -0.010</td>\n",
       "</tr>\n",
       "<tr>\n",
       "  <th>Temp_A</th>      <td>   -0.0056</td> <td>    0.005</td> <td>   -1.225</td> <td> 0.221</td> <td>   -0.014</td> <td>    0.003</td>\n",
       "</tr>\n",
       "<tr>\n",
       "  <th>HR_A</th>        <td>    0.0083</td> <td>    0.004</td> <td>    2.037</td> <td> 0.042</td> <td>    0.000</td> <td>    0.016</td>\n",
       "</tr>\n",
       "<tr>\n",
       "  <th>Weight_A</th>    <td>   -0.0075</td> <td>    0.004</td> <td>   -2.084</td> <td> 0.037</td> <td>   -0.015</td> <td>   -0.000</td>\n",
       "</tr>\n",
       "</table>\n",
       "<table class=\"simpletable\">\n",
       "<tr>\n",
       "  <th>Omnibus:</th>       <td>1450.601</td> <th>  Durbin-Watson:     </th> <td>   1.978</td>\n",
       "</tr>\n",
       "<tr>\n",
       "  <th>Prob(Omnibus):</th>  <td> 0.000</td>  <th>  Jarque-Bera (JB):  </th> <td>3745.601</td>\n",
       "</tr>\n",
       "<tr>\n",
       "  <th>Skew:</th>           <td> 2.063</td>  <th>  Prob(JB):          </th> <td>    0.00</td>\n",
       "</tr>\n",
       "<tr>\n",
       "  <th>Kurtosis:</th>       <td> 5.336</td>  <th>  Cond. No.          </th> <td>1.91e+03</td>\n",
       "</tr>\n",
       "</table><br/><br/>Warnings:<br/>[1] Standard Errors assume that the covariance matrix of the errors is correctly specified.<br/>[2] The condition number is large, 1.91e+03. This might indicate that there are<br/>strong multicollinearity or other numerical problems."
      ],
      "text/plain": [
       "<class 'statsmodels.iolib.summary.Summary'>\n",
       "\"\"\"\n",
       "                            OLS Regression Results                            \n",
       "==============================================================================\n",
       "Dep. Variable:                Outcome   R-squared:                       0.010\n",
       "Model:                            OLS   Adj. R-squared:                  0.005\n",
       "Method:                 Least Squares   F-statistic:                     2.187\n",
       "Date:                Sun, 04 Aug 2019   Prob (F-statistic):            0.00263\n",
       "Time:                        04:36:26   Log-Likelihood:                -1404.1\n",
       "No. Observations:                4000   AIC:                             2846.\n",
       "Df Residuals:                    3981   BIC:                             2966.\n",
       "Df Model:                          18                                         \n",
       "Covariance Type:            nonrobust                                         \n",
       "===============================================================================\n",
       "                  coef    std err          t      P>|t|      [0.025      0.975]\n",
       "-------------------------------------------------------------------------------\n",
       "Intercept       0.1198      0.020      5.926      0.000       0.080       0.159\n",
       "NISysABP_I      0.9641      0.688      1.401      0.161      -0.385       2.313\n",
       "NIDiasABP_I    -0.6544      0.766     -0.854      0.393      -2.157       0.848\n",
       "NIMAP_I        -0.1593      0.265     -0.601      0.548      -0.679       0.360\n",
       "SysABP_I        0.0723      1.123      0.064      0.949      -2.128       2.273\n",
       "DiasABP_I       0.2022      0.477      0.424      0.672      -0.733       1.137\n",
       "MAP_I           0.1293      0.203      0.636      0.525      -0.270       0.528\n",
       "Temp_I         -0.2715      0.476     -0.571      0.568      -1.204       0.661\n",
       "HR_I            1.2010      1.447      0.830      0.407      -1.637       4.039\n",
       "Weight_I       -0.0309      0.048     -0.638      0.523      -0.126       0.064\n",
       "NISysABP_A     -0.0001      0.006     -0.025      0.980      -0.011       0.011\n",
       "NIDiasABP_A     0.0097      0.006      1.652      0.099      -0.002       0.021\n",
       "NIMAP_A        -0.0079      0.006     -1.293      0.196      -0.020       0.004\n",
       "SysABP_A        0.0052      0.005      1.081      0.280      -0.004       0.015\n",
       "DiasABP_A       0.0140      0.005      2.865      0.004       0.004       0.024\n",
       "MAP_A          -0.0203      0.005     -4.037      0.000      -0.030      -0.010\n",
       "Temp_A         -0.0056      0.005     -1.225      0.221      -0.014       0.003\n",
       "HR_A            0.0083      0.004      2.037      0.042       0.000       0.016\n",
       "Weight_A       -0.0075      0.004     -2.084      0.037      -0.015      -0.000\n",
       "==============================================================================\n",
       "Omnibus:                     1450.601   Durbin-Watson:                   1.978\n",
       "Prob(Omnibus):                  0.000   Jarque-Bera (JB):             3745.601\n",
       "Skew:                           2.063   Prob(JB):                         0.00\n",
       "Kurtosis:                       5.336   Cond. No.                     1.91e+03\n",
       "==============================================================================\n",
       "\n",
       "Warnings:\n",
       "[1] Standard Errors assume that the covariance matrix of the errors is correctly specified.\n",
       "[2] The condition number is large, 1.91e+03. This might indicate that there are\n",
       "strong multicollinearity or other numerical problems.\n",
       "\"\"\""
      ]
     },
     "execution_count": 155,
     "metadata": {},
     "output_type": "execute_result"
    }
   ],
   "source": [
    "yXstring = 'Outcome ~ NISysABP_I + NIDiasABP_I + NIMAP_I + SysABP_I + DiasABP_I + MAP_I + Temp_I + HR_I + Weight_I + NISysABP_A + NIDiasABP_A + NIMAP_A + SysABP_A + DiasABP_A + MAP_A + Temp_A + HR_A + Weight_A'\n",
    "y, X = patsy.dmatrices(yXstring, data=anomaly_train, return_type=\"dataframe\")\n",
    "model = sm.OLS(y, X)\n",
    "fit = model.fit()\n",
    "fit.summary()"
   ]
  },
  {
   "cell_type": "code",
   "execution_count": 482,
   "metadata": {},
   "outputs": [],
   "source": [
    "pickle_in = open(\"final_train.pickle\",\"rb\")\n",
    "final_train = pickle.load(pickle_in)\n",
    "pickle_in = open(\"final_test.pickle\",\"rb\")\n",
    "final_test = pickle.load(pickle_in)\n",
    "\n",
    "y_train, X_train= final_train['Outcome'], final_train.drop(columns = ['Outcome','RecordID'])\n",
    "y_test, X_test = final_test['Outcome'], final_test.drop(columns = ['Outcome','RecordID'])\n",
    "X_tr, X_te = scale(X_train, X_test)"
   ]
  },
  {
   "cell_type": "code",
   "execution_count": 483,
   "metadata": {},
   "outputs": [
    {
     "name": "stdout",
     "output_type": "stream",
     "text": [
      "The max score for LogisticRegression is\n",
      "Test set:  47.11% at a threshold of 0.280\n"
     ]
    }
   ],
   "source": [
    "logit = LogisticRegression(C = 1, solver = 'lbfgs')\n",
    "logit.fit(X_tr, y_train)\n",
    "print_score(logit, X_te, y_test)"
   ]
  },
  {
   "cell_type": "code",
   "execution_count": 485,
   "metadata": {},
   "outputs": [
    {
     "data": {
      "text/plain": [
       "RandomForestClassifier(bootstrap=True, class_weight=None, criterion='gini',\n",
       "                       max_depth=90, max_features=3, max_leaf_nodes=None,\n",
       "                       min_impurity_decrease=0.0, min_impurity_split=None,\n",
       "                       min_samples_leaf=3, min_samples_split=10,\n",
       "                       min_weight_fraction_leaf=0.0, n_estimators=100,\n",
       "                       n_jobs=None, oob_score=False, random_state=None,\n",
       "                       verbose=0, warm_start=False)"
      ]
     },
     "execution_count": 485,
     "metadata": {},
     "output_type": "execute_result"
    }
   ],
   "source": [
    "rf = RandomForestClassifier(bootstrap = True,\n",
    " max_depth = 90,\n",
    " max_features = 3,\n",
    " min_samples_leaf= 3,\n",
    " min_samples_split= 10,\n",
    " n_estimators= 100)\n",
    "rf.fit(X_tr, y_train)"
   ]
  },
  {
   "cell_type": "code",
   "execution_count": 486,
   "metadata": {},
   "outputs": [
    {
     "name": "stdout",
     "output_type": "stream",
     "text": [
      "The max score for RandomForestClassifier is\n",
      "Test set:  48.77% at a threshold of 0.284\n"
     ]
    }
   ],
   "source": [
    "print_score(rf, X_te, y_test)"
   ]
  },
  {
   "cell_type": "markdown",
   "metadata": {},
   "source": [
    "### No improvement with anomaly features. \n",
    "Note that the anomaly detection was not run on cleaned data, with further time I would like to clean the data better and try again. Or perhaps use product of mean/number of anomalies."
   ]
  },
  {
   "cell_type": "markdown",
   "metadata": {},
   "source": [
    "# Final Contest Score:"
   ]
  },
  {
   "cell_type": "code",
   "execution_count": 534,
   "metadata": {},
   "outputs": [
    {
     "name": "stdout",
     "output_type": "stream",
     "text": [
      "Actual score (without cheating) is: 0.517948717948718\n"
     ]
    }
   ],
   "source": [
    "print(\"Actual score (without cheating) is: \" + str(min_threshold(xgb, .290, X_va, y_val)))"
   ]
  },
  {
   "cell_type": "markdown",
   "metadata": {},
   "source": [
    "And to maximize the validation set score by tuning threshold to the validation set (which obviously I couldn't do if this were the real competition):"
   ]
  },
  {
   "cell_type": "code",
   "execution_count": 535,
   "metadata": {},
   "outputs": [
    {
     "name": "stdout",
     "output_type": "stream",
     "text": [
      "The max score for XGBClassifier is\n",
      "Test set:  52.30% at a threshold of 0.286\n"
     ]
    }
   ],
   "source": [
    "print_score(xgb, X_va, y_val)"
   ]
  },
  {
   "cell_type": "markdown",
   "metadata": {},
   "source": [
    "I would have placed 3rd, whoo!. 7 years after the fact. <br>\n",
    "\n",
    "## Conclusion\n",
    "With a recall/precision score around 50%, I feel the model can assist hospital personel in the ICU to accomodate resources for sick patients accordingly, but there is a tremendous amount of domain knowledge I currently lack. Further investigation will be necessary: I know the reference ranges of most of the labs, but that isn't really a good indicator of patient health in it of itself. Working with actual doctors could provide insight needed to do better feature engineering.<br>"
   ]
  },
  {
   "cell_type": "markdown",
   "metadata": {},
   "source": [
    "***\n",
    "# Part 2\n",
    "***"
   ]
  },
  {
   "cell_type": "markdown",
   "metadata": {},
   "source": [
    "## Testing Other Models\n",
    "Along with anomaly detection, I tested many other models and strategies to attempt to improve my score over the logistic one, but the logistic model with a threshold of .27 ultimately performed better than all of my other models on the test data (and it would turn out, also on the validation set used to score the contest). In different situations, Naive Bayes, RandomForestClassifier, XGBoost, and VotingClassifier all came close or beat LogisticRegression, but not in the final test set score. "
   ]
  },
  {
   "cell_type": "markdown",
   "metadata": {},
   "source": [
    "### Cross Validation"
   ]
  },
  {
   "cell_type": "markdown",
   "metadata": {},
   "source": [
    "Up to now, I've been using the designated train data and test data for modeling, but the end goal is to maximize the finall score on the validation set, so I will just simply dump all the data together and do cross validation, bagging, etc. Also, I will now try all the models."
   ]
  },
  {
   "cell_type": "code",
   "execution_count": 536,
   "metadata": {},
   "outputs": [],
   "source": [
    "all_all = pd.concat([all_train, all_test])\n",
    "X, y = all_all.drop(columns = 'Outcome'), all_all['Outcome']"
   ]
  },
  {
   "cell_type": "code",
   "execution_count": 537,
   "metadata": {},
   "outputs": [],
   "source": [
    "std = StandardScaler()\n",
    "std.fit(X)\n",
    "X_scaled = std.transform(X)"
   ]
  },
  {
   "cell_type": "code",
   "execution_count": 539,
   "metadata": {},
   "outputs": [],
   "source": [
    "log = LogisticRegression(solver = 'lbfgs')\n",
    "nb = BernoulliNB()\n",
    "dt = DecisionTreeClassifier(max_depth = 5)\n",
    "rf = RandomForestClassifier(n_estimators = 100)\n",
    "lscv = LinearSVC()\n",
    "pscv = SVC(kernel = 'poly', gamma='auto')\n",
    "xgb = XGBClassifier()"
   ]
  },
  {
   "cell_type": "code",
   "execution_count": 540,
   "metadata": {},
   "outputs": [],
   "source": [
    "models = [log, nb, dt, rf, lscv, pscv, xgb]\n",
    "modelCV = []"
   ]
  },
  {
   "cell_type": "code",
   "execution_count": 541,
   "metadata": {
    "collapsed": true
   },
   "outputs": [
    {
     "name": "stderr",
     "output_type": "stream",
     "text": [
      "/Users/isaackim/anaconda3/lib/python3.7/site-packages/sklearn/svm/base.py:929: ConvergenceWarning: Liblinear failed to converge, increase the number of iterations.\n",
      "  \"the number of iterations.\", ConvergenceWarning)\n",
      "/Users/isaackim/anaconda3/lib/python3.7/site-packages/sklearn/svm/base.py:929: ConvergenceWarning: Liblinear failed to converge, increase the number of iterations.\n",
      "  \"the number of iterations.\", ConvergenceWarning)\n",
      "/Users/isaackim/anaconda3/lib/python3.7/site-packages/sklearn/svm/base.py:929: ConvergenceWarning: Liblinear failed to converge, increase the number of iterations.\n",
      "  \"the number of iterations.\", ConvergenceWarning)\n",
      "/Users/isaackim/anaconda3/lib/python3.7/site-packages/sklearn/svm/base.py:929: ConvergenceWarning: Liblinear failed to converge, increase the number of iterations.\n",
      "  \"the number of iterations.\", ConvergenceWarning)\n",
      "/Users/isaackim/anaconda3/lib/python3.7/site-packages/sklearn/svm/base.py:929: ConvergenceWarning: Liblinear failed to converge, increase the number of iterations.\n",
      "  \"the number of iterations.\", ConvergenceWarning)\n"
     ]
    }
   ],
   "source": [
    "logCV = cross_val_score(log, X_scaled, y, cv = 5, scoring = 'f1')\n",
    "nbCV = cross_val_score(nb, X_scaled, y, cv = 5, scoring = 'f1')\n",
    "dtCV = cross_val_score(dt, X_scaled, y, cv = 5, scoring = 'f1')\n",
    "rfCV = cross_val_score(rf, X_scaled, y, cv = 5, scoring = 'f1')\n",
    "linearCV = cross_val_score(lscv, X_scaled, y, cv = 5, scoring = 'f1')\n",
    "polyCV = cross_val_score(pscv, X_scaled, y, cv = 5, scoring = 'f1')\n",
    "xgb = cross_val_score(xgb, X_scaled, y, cv = 5, scoring = 'f1')"
   ]
  },
  {
   "cell_type": "code",
   "execution_count": 542,
   "metadata": {},
   "outputs": [
    {
     "name": "stdout",
     "output_type": "stream",
     "text": [
      "Logistic Regression CV Score is : 0.30271071376641484\n",
      "Naive Bayes CV Score is : 0.35877332211639357\n",
      "Decision Tree CV Score is : 0.27478231146306403\n",
      "Random Forest CV Score is : 0.2682778527932517\n",
      "Linear SVC CV Score is : 0.2108192634562828\n",
      "Polynomial SVC CV Score is : 0.2320412235490839\n",
      "XGBoost CV Score is : 0.2320412235490839\n"
     ]
    }
   ],
   "source": [
    "print(\"Logistic Regression CV Score is : \" + str(logCV.mean()))\n",
    "print(\"Naive Bayes CV Score is : \" + str(nbCV.mean()))\n",
    "print(\"Decision Tree CV Score is : \" + str(dtCV.mean()))\n",
    "print(\"Random Forest CV Score is : \" + str(rfCV.mean()))\n",
    "print(\"Linear SVC CV Score is : \" + str(linearCV.mean()))\n",
    "print(\"Polynomial SVC CV Score is : \" + str(polyCV.mean()))\n",
    "print(\"XGBoost CV Score is : \" + str(polyCV.mean()))"
   ]
  },
  {
   "cell_type": "code",
   "execution_count": 545,
   "metadata": {},
   "outputs": [],
   "source": [
    "def min_score(model, X, y):\n",
    "    return min(precision_score(y, model.predict(X)), recall_score(y, model.predict(X)))"
   ]
  },
  {
   "cell_type": "markdown",
   "metadata": {},
   "source": [
    "### Oversampling"
   ]
  },
  {
   "cell_type": "code",
   "execution_count": 687,
   "metadata": {},
   "outputs": [],
   "source": [
    "#Bring in combined data with these features\n",
    "pickle_in = open(\"all_train.pickle\",\"rb\")\n",
    "all_train = pickle.load(pickle_in)\n",
    "pickle_in = open(\"all_test.pickle\",\"rb\")\n",
    "all_test = pickle.load(pickle_in)\n",
    "pickle_in = open(\"all_val.pickle\",\"rb\")\n",
    "all_val = pickle.load(pickle_in)\n",
    "X_train, y_train= all_train.drop(columns = ['Outcome','RecordID']), all_train['Outcome']\n",
    "X_test, y_test = all_test.drop(columns = ['Outcome','RecordID']), all_test['Outcome']\n",
    "X_val, y_val = all_val.drop(columns = ['Outcome','RecordID']), all_val['Outcome']\n",
    "X_tr, X_te, X_va = scale(X_train, X_test, X_val)"
   ]
  },
  {
   "cell_type": "code",
   "execution_count": 567,
   "metadata": {},
   "outputs": [],
   "source": [
    "# Now add some random oversampling of the minority classes\n",
    "from imblearn.over_sampling import RandomOverSampler\n",
    "ros = RandomOverSampler(random_state=0)\n",
    "X_resampled, y_resampled = ros.fit_sample(X_tr,y_train)"
   ]
  },
  {
   "cell_type": "code",
   "execution_count": 568,
   "metadata": {},
   "outputs": [],
   "source": [
    "#And throw all of the models at it\n",
    "clf_ros = SVC(gamma='auto').fit(X_resampled, y_resampled)\n",
    "dec_ros = DecisionTreeClassifier(max_depth = 5).fit(X_resampled, y_resampled)\n",
    "ran_ros = RandomForestClassifier(n_estimators = 100).fit(X_resampled, y_resampled)\n",
    "log_ros = LogisticRegression(solver='lbfgs').fit(X_resampled, y_resampled)\n",
    "xgb_ros = XGBClassifier().fit(X_resampled, y_resampled)"
   ]
  },
  {
   "cell_type": "code",
   "execution_count": 575,
   "metadata": {},
   "outputs": [
    {
     "name": "stdout",
     "output_type": "stream",
     "text": [
      "0.7562904385334291\n",
      "0.4935672514619883\n",
      "1.0\n",
      "0.43813604713444027\n",
      "0.6294155427103404\n"
     ]
    }
   ],
   "source": [
    "print(f1_score(y_train, clf_ros.predict(X_tr)))\n",
    "print(f1_score(y_train, dec_ros.predict(X_tr)))\n",
    "print(f1_score(y_train, ran_ros.predict(X_tr)))\n",
    "print(f1_score(y_train, log_ros.predict(X_tr)))\n",
    "print(f1_score(y_train, xgb_ros.predict(X_tr)))"
   ]
  },
  {
   "cell_type": "code",
   "execution_count": 570,
   "metadata": {},
   "outputs": [
    {
     "name": "stdout",
     "output_type": "stream",
     "text": [
      "0.39359698681732574\n",
      "0.3769322235434007\n",
      "0.149618320610687\n",
      "0.46254071661237783\n",
      "0.5065176908752328\n"
     ]
    }
   ],
   "source": [
    "print(f1_score(y_test, clf_ros.predict(X_te)))\n",
    "print(f1_score(y_test, dec_ros.predict(X_te)))\n",
    "print(f1_score(y_test, ran_ros.predict(X_te)))\n",
    "print(f1_score(y_test, log_ros.predict(X_te)))\n",
    "print(f1_score(y_test, xgb_ros.predict(X_te)))"
   ]
  },
  {
   "cell_type": "markdown",
   "metadata": {},
   "source": [
    "Seems like some severe overfitting. No imporvement to the XGB score. How about SMOTE?"
   ]
  },
  {
   "cell_type": "code",
   "execution_count": 576,
   "metadata": {},
   "outputs": [],
   "source": [
    "from imblearn.over_sampling import SMOTE\n",
    "X_smoted, y_smoted = SMOTE(random_state=42).fit_sample(X_tr,y_train)"
   ]
  },
  {
   "cell_type": "code",
   "execution_count": 577,
   "metadata": {},
   "outputs": [],
   "source": [
    "clf_smote = SVC(gamma='auto').fit(X_smoted, y_smoted)\n",
    "dec_smote = DecisionTreeClassifier(max_depth = 5).fit(X_smoted, y_smoted)\n",
    "ran_smote = RandomForestClassifier(n_estimators = 100).fit(X_smoted, y_smoted)\n",
    "log_smote = LogisticRegression(C=.95, solver='lbfgs').fit(X_smoted, y_smoted)\n",
    "xgb_smote = XGBClassifier().fit(X_smoted, y_smoted)"
   ]
  },
  {
   "cell_type": "code",
   "execution_count": 578,
   "metadata": {},
   "outputs": [
    {
     "name": "stdout",
     "output_type": "stream",
     "text": [
      "0.7327285415212841\n",
      "0.449489216799092\n",
      "1.0\n",
      "0.43324396782841823\n",
      "0.6095505617977527\n"
     ]
    }
   ],
   "source": [
    "print(f1_score(y_train, clf_smote.predict(X_tr)))\n",
    "print(f1_score(y_train, dec_smote.predict(X_tr)))\n",
    "print(f1_score(y_train, ran_smote.predict(X_tr)))\n",
    "print(f1_score(y_train, log_smote.predict(X_tr)))\n",
    "print(f1_score(y_train, xgb_smote.predict(X_tr)))"
   ]
  },
  {
   "cell_type": "code",
   "execution_count": 579,
   "metadata": {
    "scrolled": true
   },
   "outputs": [
    {
     "name": "stdout",
     "output_type": "stream",
     "text": [
      "0.26022304832713755\n",
      "0.4128891316220644\n",
      "0.39397201291711526\n",
      "0.45105953582240155\n",
      "0.47381144238517325\n"
     ]
    }
   ],
   "source": [
    "print(f1_score(y_test, clf_smote.predict(X_te)))\n",
    "print(f1_score(y_test, dec_smote.predict(X_te)))\n",
    "print(f1_score(y_test, ran_smote.predict(X_te)))\n",
    "print(f1_score(y_test, log_smote.predict(X_te)))\n",
    "print(f1_score(y_test, xgb_smote.predict(X_te)))"
   ]
  },
  {
   "cell_type": "code",
   "execution_count": 580,
   "metadata": {},
   "outputs": [],
   "source": [
    "from imblearn.over_sampling import ADASYN\n",
    "X_adasyn, y_adasyn = ADASYN(random_state=42).fit_sample(X_tr,y_train)"
   ]
  },
  {
   "cell_type": "code",
   "execution_count": 581,
   "metadata": {},
   "outputs": [],
   "source": [
    "clf_adasyn = SVC(gamma='auto').fit(X_adasyn, y_adasyn)\n",
    "dec_adasyn = DecisionTreeClassifier(max_depth = 5).fit(X_adasyn, y_adasyn)\n",
    "ran_adasyn = RandomForestClassifier(n_estimators = 100).fit(X_adasyn, y_adasyn)\n",
    "log_adasyn = LogisticRegression(C=.95, solver='lbfgs').fit(X_adasyn, y_adasyn)\n",
    "xgb_adasyn = XGBClassifier().fit(X_adasyn, y_adasyn)"
   ]
  },
  {
   "cell_type": "code",
   "execution_count": 582,
   "metadata": {},
   "outputs": [
    {
     "name": "stdout",
     "output_type": "stream",
     "text": [
      "0.7210702341137124\n",
      "0.41298212605832557\n",
      "1.0\n",
      "0.42946058091286304\n",
      "0.6059763724808895\n"
     ]
    }
   ],
   "source": [
    "print(f1_score(y_train, clf_adasyn.predict(X_tr)))\n",
    "print(f1_score(y_train, dec_adasyn.predict(X_tr)))\n",
    "print(f1_score(y_train, ran_adasyn.predict(X_tr)))\n",
    "print(f1_score(y_train, log_adasyn.predict(X_tr)))\n",
    "print(f1_score(y_train, xgb_adasyn.predict(X_tr)))"
   ]
  },
  {
   "cell_type": "code",
   "execution_count": 583,
   "metadata": {},
   "outputs": [
    {
     "name": "stdout",
     "output_type": "stream",
     "text": [
      "0.29171528588098017\n",
      "0.3686553873552983\n",
      "0.34529147982062786\n",
      "0.44124700239808157\n"
     ]
    }
   ],
   "source": [
    "print(f1_score(y_test, clf_adasyn.predict(X_te)))\n",
    "print(f1_score(y_test, dec_adasyn.predict(X_te)))\n",
    "print(f1_score(y_test, ran_adasyn.predict(X_te)))\n",
    "print(f1_score(y_test, log_adasyn.predict(X_te)))"
   ]
  },
  {
   "cell_type": "markdown",
   "metadata": {},
   "source": [
    "Oversampling doesn't seem to make much of a difference with any of the models."
   ]
  },
  {
   "cell_type": "markdown",
   "metadata": {},
   "source": [
    "### Ensemble Kitchen Sink Approach"
   ]
  },
  {
   "cell_type": "code",
   "execution_count": 584,
   "metadata": {},
   "outputs": [],
   "source": [
    "from sklearn import ensemble\n",
    "from mlxtend.classifier import StackingClassifier \n",
    "\n",
    "from sklearn.tree import DecisionTreeClassifier, DecisionTreeRegressor\n",
    "from sklearn.ensemble import (RandomForestClassifier, ExtraTreesClassifier, VotingClassifier, \n",
    "                              AdaBoostClassifier, BaggingRegressor)\n",
    "\n",
    "from sklearn.metrics import make_scorer"
   ]
  },
  {
   "cell_type": "code",
   "execution_count": 661,
   "metadata": {},
   "outputs": [],
   "source": [
    "lr_model = LogisticRegression(solver=\"lbfgs\")\n",
    "nb_model = BernoulliNB()\n",
    "knn_model = KNeighborsClassifier()\n",
    "svc_model = SVC(probability=True, gamma=\"scale\")\n",
    "rf_model = ensemble.RandomForestClassifier(n_estimators=100)\n",
    "et_model = ensemble.ExtraTreesClassifier(n_estimators=100)\n",
    "ada_model = ensemble.AdaBoostClassifier()\n",
    "xgb_model = XGBClassifier()\n",
    "\n",
    "models = [\"lr_model\", \"nb_model\", \"knn_model\", \"svc_model\", \"rf_model\", \"et_model\", \"ada_model\",\"xgb_model\"]\n",
    "best_models = [\"lr_model\", \"nb_model\", \"rf_model\", \"et_model\",\"ada_model\",\"xgb_model\"]"
   ]
  },
  {
   "cell_type": "code",
   "execution_count": 662,
   "metadata": {},
   "outputs": [],
   "source": [
    "for model_name in models:\n",
    "    curr_model = eval(model_name)\n",
    "    curr_model.fit(X_tr, y_train)"
   ]
  },
  {
   "cell_type": "code",
   "execution_count": 663,
   "metadata": {},
   "outputs": [],
   "source": [
    "model_vars = [eval(n) for n in models]\n",
    "model_list = list(zip(models, model_vars))\n",
    "best_vars = [eval(n) for n in best_models]\n",
    "best_list = list(zip(best_models, best_vars))"
   ]
  },
  {
   "cell_type": "code",
   "execution_count": 664,
   "metadata": {},
   "outputs": [
    {
     "name": "stdout",
     "output_type": "stream",
     "text": [
      "lr_model score: 0.26944444444444443\n",
      "nb_model score: 0.3358490566037736\n",
      "knn_model score: 0.12012012012012012\n",
      "svc_model score: 0.024263431542461\n",
      "rf_model score: 0.2570621468926554\n",
      "et_model score: 0.10819672131147541\n",
      "ada_model score: 0.37158469945355194\n",
      "xgb_model score: 0.34848484848484845\n"
     ]
    }
   ],
   "source": [
    "for model_name in models:\n",
    "    curr_model = eval(model_name)\n",
    "    print(f'{model_name} score: {f1_score(y_test, curr_model.predict(X_te))}')"
   ]
  },
  {
   "cell_type": "code",
   "execution_count": 638,
   "metadata": {},
   "outputs": [
    {
     "name": "stdout",
     "output_type": "stream",
     "text": [
      "LogisticRegression ROC AUC score : 0.832087\n",
      "BernoulliNB ROC AUC score : 0.776323\n",
      "RandomForestClassifier ROC AUC score : 0.822761\n",
      "ExtraTreesClassifier ROC AUC score : 0.837612\n",
      "AdaBoostClassifier ROC AUC score : 0.822384\n",
      "XGBClassifier ROC AUC score : 0.844755\n"
     ]
    },
    {
     "data": {
      "image/png": "[encoded data removed]",
      "text/plain": [
       "<Figure size 720x432 with 1 Axes>"
      ]
     },
     "metadata": {
      "image/png": {
       "height": 386,
       "width": 608
      },
      "needs_background": "light"
     },
     "output_type": "display_data"
    }
   ],
   "source": [
    "for model_name in best_vars:\n",
    "    plot_AUC(X_te, y_test, model_name)"
   ]
  },
  {
   "cell_type": "code",
   "execution_count": null,
   "metadata": {},
   "outputs": [],
   "source": []
  },
  {
   "cell_type": "code",
   "execution_count": 690,
   "metadata": {},
   "outputs": [],
   "source": [
    "# create voting classifier\n",
    "voting_classifier = VotingClassifier(estimators=model_list,\n",
    "                                    voting='hard', #<-- sklearn calls this hard voting\n",
    "                                    n_jobs=4)\n",
    "voting_classifier.fit(X_tr, y_train);"
   ]
  },
  {
   "cell_type": "code",
   "execution_count": 655,
   "metadata": {},
   "outputs": [],
   "source": [
    "def contest_score(y_test, y_pred):\n",
    "    return min(precision_score(y_test,y_pred), recall_score(y_test,y_pred))"
   ]
  },
  {
   "cell_type": "code",
   "execution_count": 691,
   "metadata": {},
   "outputs": [
    {
     "data": {
      "text/plain": [
       "0.08450704225352113"
      ]
     },
     "execution_count": 691,
     "metadata": {},
     "output_type": "execute_result"
    }
   ],
   "source": [
    "y_pred = voting_classifier.predict(X_te)\n",
    "contest_score(y_test, y_pred)"
   ]
  },
  {
   "cell_type": "code",
   "execution_count": 696,
   "metadata": {},
   "outputs": [],
   "source": [
    "# create voting classifier\n",
    "voting_classifier = VotingClassifier(estimators=model_list,\n",
    "                                    voting='soft', #<-- sklearn calls this soft voting\n",
    "                                    n_jobs=4)\n",
    "voting_classifier.fit(X_tr, y_train);"
   ]
  },
  {
   "cell_type": "code",
   "execution_count": 697,
   "metadata": {},
   "outputs": [
    {
     "data": {
      "text/plain": [
       "0.11795774647887323"
      ]
     },
     "execution_count": 697,
     "metadata": {},
     "output_type": "execute_result"
    }
   ],
   "source": [
    "y_pred = voting_classifier.predict(X_te)\n",
    "contest_score(y_test, y_pred)"
   ]
  },
  {
   "cell_type": "code",
   "execution_count": 685,
   "metadata": {},
   "outputs": [
    {
     "data": {
      "text/plain": [
       "0.48257839721254353"
      ]
     },
     "execution_count": 685,
     "metadata": {},
     "output_type": "execute_result"
    }
   ],
   "source": [
    "min_threshold(voting_classifier, .308, X_te, y_test)"
   ]
  },
  {
   "cell_type": "code",
   "execution_count": 698,
   "metadata": {},
   "outputs": [
    {
     "name": "stdout",
     "output_type": "stream",
     "text": [
      "VotingClassifier ROC AUC score : 0.844400\n"
     ]
    },
    {
     "data": {
      "image/png": "[encoded data removed]",
      "text/plain": [
       "<Figure size 720x432 with 1 Axes>"
      ]
     },
     "metadata": {
      "image/png": {
       "height": 386,
       "width": 608
      },
      "needs_background": "light"
     },
     "output_type": "display_data"
    }
   ],
   "source": [
    "plot_AUC(X_te, y_test, voting_classifier)"
   ]
  },
  {
   "cell_type": "markdown",
   "metadata": {},
   "source": [
    "Soft voting classifier did well on the validation data. Let's see if we can improve by filtering the best models only."
   ]
  },
  {
   "cell_type": "code",
   "execution_count": 701,
   "metadata": {},
   "outputs": [],
   "source": [
    "voting_classifier2 = VotingClassifier(estimators=best_list,\n",
    "                                    voting='soft', #<-- sklearn calls this soft voting\n",
    "                                    n_jobs=4)\n",
    "voting_classifier2.fit(X_tr, y_train);"
   ]
  },
  {
   "cell_type": "code",
   "execution_count": 712,
   "metadata": {},
   "outputs": [
    {
     "data": {
      "text/plain": [
       "0.4841549295774648"
      ]
     },
     "execution_count": 712,
     "metadata": {},
     "output_type": "execute_result"
    }
   ],
   "source": [
    "min_threshold(voting_classifier2, .343, X_te, y_test)"
   ]
  },
  {
   "cell_type": "markdown",
   "metadata": {},
   "source": [
    "Seems like no improvement. Let's try weighted classes"
   ]
  },
  {
   "cell_type": "code",
   "execution_count": 715,
   "metadata": {},
   "outputs": [],
   "source": [
    "weights = [4,3,1,1,1,1,4,4]\n",
    "voting_model = VotingClassifier(estimators=model_list,\n",
    "                                    voting='soft', \n",
    "                                    weights = weights,\n",
    "                                    n_jobs=-1)\n",
    "voting_model.fit(X_tr, y_train);"
   ]
  },
  {
   "cell_type": "code",
   "execution_count": 718,
   "metadata": {},
   "outputs": [
    {
     "data": {
      "text/plain": [
       "0.17253521126760563"
      ]
     },
     "execution_count": 718,
     "metadata": {},
     "output_type": "execute_result"
    }
   ],
   "source": [
    "y_pred = voting_model.predict(X_te)\n",
    "contest_score(y_test, y_pred)"
   ]
  },
  {
   "cell_type": "code",
   "execution_count": 727,
   "metadata": {},
   "outputs": [
    {
     "data": {
      "text/plain": [
       "0.4836488812392427"
      ]
     },
     "execution_count": 727,
     "metadata": {},
     "output_type": "execute_result"
    }
   ],
   "source": [
    "min_threshold(voting_model, .335, X_te, y_test)"
   ]
  },
  {
   "cell_type": "markdown",
   "metadata": {},
   "source": [
    "No improvement after multiple tries at it. "
   ]
  },
  {
   "cell_type": "code",
   "execution_count": 740,
   "metadata": {},
   "outputs": [],
   "source": [
    "stacked = StackingClassifier(\n",
    "    classifiers=model_vars, meta_classifier=BernoulliNB(), use_probas=True)"
   ]
  },
  {
   "cell_type": "code",
   "execution_count": 741,
   "metadata": {},
   "outputs": [],
   "source": [
    "stacked.fit(X_tr, y_train);"
   ]
  },
  {
   "cell_type": "code",
   "execution_count": 742,
   "metadata": {},
   "outputs": [
    {
     "data": {
      "text/plain": [
       "0.25018341892883345"
      ]
     },
     "execution_count": 742,
     "metadata": {},
     "output_type": "execute_result"
    }
   ],
   "source": [
    "y_pred = stacked.predict(X_te)\n",
    "contest_score(y_test, y_pred)"
   ]
  },
  {
   "cell_type": "markdown",
   "metadata": {},
   "source": [
    "No change observed."
   ]
  },
  {
   "cell_type": "markdown",
   "metadata": {},
   "source": [
    "### And finally, as a sanity check, let's compare with a dummy classifier."
   ]
  },
  {
   "cell_type": "code",
   "execution_count": 749,
   "metadata": {},
   "outputs": [],
   "source": [
    "from sklearn.dummy import DummyClassifier\n",
    "from sklearn.naive_bayes import BernoulliNB"
   ]
  },
  {
   "cell_type": "code",
   "execution_count": 754,
   "metadata": {},
   "outputs": [
    {
     "data": {
      "text/plain": [
       "[0.17975567190226877, 0.735]"
      ]
     },
     "execution_count": 754,
     "metadata": {},
     "output_type": "execute_result"
    }
   ],
   "source": [
    "dc = DummyClassifier()\n",
    "dc.fit(X_tr, y_train)\n",
    "max_score(dc, X_te, y_test)"
   ]
  }
 ],
 "metadata": {
  "kernelspec": {
   "display_name": "metis",
   "language": "python",
   "name": "metis"
  },
  "language_info": {
   "codemirror_mode": {
    "name": "ipython",
    "version": 3
   },
   "file_extension": ".py",
   "mimetype": "text/x-python",
   "name": "python",
   "nbconvert_exporter": "python",
   "pygments_lexer": "ipython3",
   "version": "3.7.3"
  },
  "varInspector": {
   "cols": {
    "lenName": 16,
    "lenType": 16,
    "lenVar": 40
   },
   "kernels_config": {
    "python": {
     "delete_cmd_postfix": "",
     "delete_cmd_prefix": "del ",
     "library": "var_list.py",
     "varRefreshCmd": "print(var_dic_list())"
    },
    "r": {
     "delete_cmd_postfix": ") ",
     "delete_cmd_prefix": "rm(",
     "library": "var_list.r",
     "varRefreshCmd": "cat(var_dic_list()) "
    }
   },
   "types_to_exclude": [
    "module",
    "function",
    "builtin_function_or_method",
    "instance",
    "_Feature"
   ],
   "window_display": false
  }
 },
 "nbformat": 4,
 "nbformat_minor": 2
}
